{
 "cells": [
  {
   "cell_type": "code",
   "execution_count": 1,
   "metadata": {},
   "outputs": [],
   "source": [
    "import serial\n",
    "import sys\n",
    "sys.path.append('C:\\\\Program Files\\\\Micro-Manager-2.0beta')\n",
    "from smartscope.source import sc_utils\n",
    "\n",
    "mmc= sc_utils.get_stage_controller(cfg='../../../config/scope_stage2.cfg')"
   ]
  },
  {
   "cell_type": "code",
   "execution_count": 7,
   "metadata": {},
   "outputs": [
    {
     "ename": "CMMError",
     "evalue": "Cannot get value of property \"AxisPolarityX\" [ Error in device \"XYStage\": Invalid property name encountered: AxisPolarityX (2) ]",
     "output_type": "error",
     "traceback": [
      "\u001b[1;31m---------------------------------------------------------------------------\u001b[0m",
      "\u001b[1;31mCMMError\u001b[0m                                  Traceback (most recent call last)",
      "\u001b[1;32m<ipython-input-7-68d028a6e755>\u001b[0m in \u001b[0;36m<module>\u001b[1;34m\u001b[0m\n\u001b[1;32m----> 1\u001b[1;33m \u001b[0mmmc\u001b[0m\u001b[1;33m.\u001b[0m\u001b[0mgetProperty\u001b[0m\u001b[1;33m(\u001b[0m\u001b[1;34m'XYStage'\u001b[0m\u001b[1;33m,\u001b[0m \u001b[1;34m'AxisPolarityX'\u001b[0m\u001b[1;33m)\u001b[0m\u001b[1;33m\u001b[0m\u001b[1;33m\u001b[0m\u001b[0m\n\u001b[0m",
      "\u001b[1;32mC:\\Program Files\\Micro-Manager-2.0beta\\MMCorePy.py\u001b[0m in \u001b[0;36mgetProperty\u001b[1;34m(self, *args)\u001b[0m\n\u001b[0;32m   3540\u001b[0m \u001b[1;33m\u001b[0m\u001b[0m\n\u001b[0;32m   3541\u001b[0m         \"\"\"\n\u001b[1;32m-> 3542\u001b[1;33m         \u001b[1;32mreturn\u001b[0m \u001b[0m_MMCorePy\u001b[0m\u001b[1;33m.\u001b[0m\u001b[0mCMMCore_getProperty\u001b[0m\u001b[1;33m(\u001b[0m\u001b[0mself\u001b[0m\u001b[1;33m,\u001b[0m \u001b[1;33m*\u001b[0m\u001b[0margs\u001b[0m\u001b[1;33m)\u001b[0m\u001b[1;33m\u001b[0m\u001b[1;33m\u001b[0m\u001b[0m\n\u001b[0m\u001b[0;32m   3543\u001b[0m \u001b[1;33m\u001b[0m\u001b[0m\n\u001b[0;32m   3544\u001b[0m     \u001b[1;32mdef\u001b[0m \u001b[0msetProperty\u001b[0m\u001b[1;33m(\u001b[0m\u001b[0mself\u001b[0m\u001b[1;33m,\u001b[0m \u001b[1;33m*\u001b[0m\u001b[0margs\u001b[0m\u001b[1;33m)\u001b[0m\u001b[1;33m:\u001b[0m\u001b[1;33m\u001b[0m\u001b[1;33m\u001b[0m\u001b[0m\n",
      "\u001b[1;31mCMMError\u001b[0m: Cannot get value of property \"AxisPolarityX\" [ Error in device \"XYStage\": Invalid property name encountered: AxisPolarityX (2) ]"
     ]
    }
   ],
   "source": [
    "mmc.getProperty('XYStage', 'AxisPolarityX')"
   ]
  },
  {
   "cell_type": "code",
   "execution_count": 2,
   "metadata": {},
   "outputs": [
    {
     "data": {
      "text/plain": [
       "(2688, 2200)"
      ]
     },
     "execution_count": 2,
     "metadata": {},
     "output_type": "execute_result"
    }
   ],
   "source": [
    "sc_utils.get_frame_size(sc_utils.start_cam())"
   ]
  },
  {
   "cell_type": "code",
   "execution_count": 9,
   "metadata": {},
   "outputs": [
    {
     "name": "stdout",
     "output_type": "stream",
     "text": [
      "2 0\n"
     ]
    }
   ],
   "source": [
    "\n",
    "# mmc.setSerialPortCommand('COM6', bytearray.fromhex(\"4F203120300A453F0A\").decode(), \"\")\n",
    "# mmc.setSerialPortCommand('COM6', bytearray.fromhex(\"4F203020310A453F0A\").decode(), \"\")\n",
    "# mmc.setSerialPortCommand('COM6', bytearray.fromhex(\"4F203020300A453F0A\").decode(), \"\")\n",
    "# bytearray.fromhex(\"4F203120310A453F0A\").decode()\n",
    "# 4F 20 30 20 31 0A 45 3F 0A                         O 0 1.E?.\n",
    "#  4F 20 30 20 30 0A 45 3F 0A                        O 0 0.E?.\n",
    "change_LED_values(mmc, 2, 0)"
   ]
  },
  {
   "cell_type": "code",
   "execution_count": 6,
   "metadata": {},
   "outputs": [],
   "source": [
    "def change_LED_values(controller, LED, value):\n",
    "#     controller.setProperty('Thorlabs DC4100', 'Operation Mode', 'Brightness Mode')\n",
    "    port = controller.getProperty('Thorlabs DC4100', 'Port')\n",
    "    if not value == 0:\n",
    "        on_off = \"1\"\n",
    "        print (LED, value)\n",
    "        controller.setProperty('Thorlabs DC4100', 'Percental Brightness LED-'+str(LED), value)\n",
    "        controller.setSerialPortCommand(port, bytearray.fromhex(\"4F203\" + str(LED-1) + \"203\" + on_off + \"0A453F0A\").decode(), \"\")\n",
    "    else:\n",
    "        on_off = \"0\"\n",
    "        print (LED, value)\n",
    "        controller.setSerialPortCommand(port, bytearray.fromhex(\"4F203\" + str(LED-1) + \"203\" + on_off + \"0A453F0A\").decode(), \"\")\n",
    "        controller.setProperty('Thorlabs DC4100', 'Percental Brightness LED-'+str(LED), value)"
   ]
  },
  {
   "cell_type": "code",
   "execution_count": 21,
   "metadata": {},
   "outputs": [
    {
     "ename": "CMMError",
     "evalue": "Cannot set property \"Percental Brightness LED-1\" to \"2\" [ Error in device \"Thorlabs DC4100\": Unknown command. (131) ]",
     "output_type": "error",
     "traceback": [
      "\u001b[1;31m---------------------------------------------------------------------------\u001b[0m",
      "\u001b[1;31mCMMError\u001b[0m                                  Traceback (most recent call last)",
      "\u001b[1;32m<ipython-input-21-669a606a0211>\u001b[0m in \u001b[0;36m<module>\u001b[1;34m\u001b[0m\n\u001b[0;32m      1\u001b[0m \u001b[1;31m# Operation Mode\u001b[0m\u001b[1;33m\u001b[0m\u001b[1;33m\u001b[0m\u001b[1;33m\u001b[0m\u001b[0m\n\u001b[0;32m      2\u001b[0m \u001b[0mmmc\u001b[0m\u001b[1;33m.\u001b[0m\u001b[0msetProperty\u001b[0m\u001b[1;33m(\u001b[0m\u001b[1;34m'Thorlabs DC4100'\u001b[0m\u001b[1;33m,\u001b[0m \u001b[1;34m'Operation Mode'\u001b[0m\u001b[1;33m,\u001b[0m \u001b[1;34m'Brightness Mode'\u001b[0m\u001b[1;33m)\u001b[0m\u001b[1;33m\u001b[0m\u001b[1;33m\u001b[0m\u001b[0m\n\u001b[1;32m----> 3\u001b[1;33m \u001b[0mmmc\u001b[0m\u001b[1;33m.\u001b[0m\u001b[0msetProperty\u001b[0m\u001b[1;33m(\u001b[0m\u001b[1;34m'Thorlabs DC4100'\u001b[0m\u001b[1;33m,\u001b[0m \u001b[1;34m'Percental Brightness LED-1'\u001b[0m\u001b[1;33m,\u001b[0m \u001b[1;36m2\u001b[0m\u001b[1;33m)\u001b[0m\u001b[1;33m\u001b[0m\u001b[1;33m\u001b[0m\u001b[0m\n\u001b[0m\u001b[0;32m      4\u001b[0m \u001b[0mmmc\u001b[0m\u001b[1;33m.\u001b[0m\u001b[0msetProperty\u001b[0m\u001b[1;33m(\u001b[0m\u001b[1;34m'Thorlabs DC4100'\u001b[0m\u001b[1;33m,\u001b[0m \u001b[1;34m'Percental Brightness LED-2'\u001b[0m\u001b[1;33m,\u001b[0m \u001b[1;36m0\u001b[0m\u001b[1;33m)\u001b[0m\u001b[1;33m\u001b[0m\u001b[1;33m\u001b[0m\u001b[0m\n\u001b[0;32m      5\u001b[0m \u001b[0mmmc\u001b[0m\u001b[1;33m.\u001b[0m\u001b[0msetSerialPortCommand\u001b[0m\u001b[1;33m(\u001b[0m\u001b[1;34m'COM6'\u001b[0m\u001b[1;33m,\u001b[0m \u001b[0mbytearray\u001b[0m\u001b[1;33m.\u001b[0m\u001b[0mfromhex\u001b[0m\u001b[1;33m(\u001b[0m\u001b[1;34m\"4F203020310A453F0A\"\u001b[0m\u001b[1;33m)\u001b[0m\u001b[1;33m.\u001b[0m\u001b[0mdecode\u001b[0m\u001b[1;33m(\u001b[0m\u001b[1;33m)\u001b[0m\u001b[1;33m,\u001b[0m \u001b[1;34m\"\"\u001b[0m\u001b[1;33m)\u001b[0m\u001b[1;33m\u001b[0m\u001b[1;33m\u001b[0m\u001b[0m\n",
      "\u001b[1;32mC:\\Program Files\\Micro-Manager-2.0beta\\MMCorePy.py\u001b[0m in \u001b[0;36msetProperty\u001b[1;34m(self, *args)\u001b[0m\n\u001b[0;32m   3596\u001b[0m \u001b[1;33m\u001b[0m\u001b[0m\n\u001b[0;32m   3597\u001b[0m         \"\"\"\n\u001b[1;32m-> 3598\u001b[1;33m         \u001b[1;32mreturn\u001b[0m \u001b[0m_MMCorePy\u001b[0m\u001b[1;33m.\u001b[0m\u001b[0mCMMCore_setProperty\u001b[0m\u001b[1;33m(\u001b[0m\u001b[0mself\u001b[0m\u001b[1;33m,\u001b[0m \u001b[1;33m*\u001b[0m\u001b[0margs\u001b[0m\u001b[1;33m)\u001b[0m\u001b[1;33m\u001b[0m\u001b[1;33m\u001b[0m\u001b[0m\n\u001b[0m\u001b[0;32m   3599\u001b[0m \u001b[1;33m\u001b[0m\u001b[0m\n\u001b[0;32m   3600\u001b[0m     \u001b[1;32mdef\u001b[0m \u001b[0mgetAllowedPropertyValues\u001b[0m\u001b[1;33m(\u001b[0m\u001b[0mself\u001b[0m\u001b[1;33m,\u001b[0m \u001b[1;33m*\u001b[0m\u001b[0margs\u001b[0m\u001b[1;33m)\u001b[0m\u001b[1;33m:\u001b[0m\u001b[1;33m\u001b[0m\u001b[1;33m\u001b[0m\u001b[0m\n",
      "\u001b[1;31mCMMError\u001b[0m: Cannot set property \"Percental Brightness LED-1\" to \"2\" [ Error in device \"Thorlabs DC4100\": Unknown command. (131) ]"
     ]
    }
   ],
   "source": [
    "# Operation Mode\n",
    "mmc.setProperty('Thorlabs DC4100', 'Operation Mode', 'Brightness Mode')\n",
    "mmc.setProperty('Thorlabs DC4100', 'Percental Brightness LED-1', 2)\n",
    "mmc.setProperty('Thorlabs DC4100', 'Percental Brightness LED-2', 0)\n",
    "mmc.setSerialPortCommand('COM6', bytearray.fromhex(\"4F203020310A453F0A\").decode(), \"\")\n",
    "mmc.setProperty('Thorlabs DC4100', 'Percental Brightness LED-3', 0)\n",
    "mmc.setProperty('Thorlabs DC4100', 'Percental Brightness LED-4', 0)\n",
    "# mmc.setProperty('Thorlabs DC4100', 'Constant Current LED-3', 'on')\n",
    "# mmc.getProperty('Thorlabs DC4100', 'Operation Mode')"
   ]
  },
  {
   "cell_type": "code",
   "execution_count": 9,
   "metadata": {},
   "outputs": [],
   "source": [
    "mmc.setProperty('Thorlabs DC4100', 'Limit Current LED-3', 1000)"
   ]
  },
  {
   "cell_type": "code",
   "execution_count": 2,
   "metadata": {},
   "outputs": [
    {
     "data": {
      "text/plain": [
       "('Constant Current LED-1',\n",
       " 'Constant Current LED-2',\n",
       " 'Constant Current LED-3',\n",
       " 'Constant Current LED-4',\n",
       " 'Description',\n",
       " 'Firmware Revision',\n",
       " 'Forward Bias LED-1',\n",
       " 'Forward Bias LED-2',\n",
       " 'Forward Bias LED-3',\n",
       " 'Forward Bias LED-4',\n",
       " 'Limit Current LED-1',\n",
       " 'Limit Current LED-2',\n",
       " 'Limit Current LED-3',\n",
       " 'Limit Current LED-4',\n",
       " 'Maximum Current LED-1',\n",
       " 'Maximum Current LED-2',\n",
       " 'Maximum Current LED-3',\n",
       " 'Maximum Current LED-4',\n",
       " 'Name',\n",
       " 'Operation Mode',\n",
       " 'Percental Brightness LED-1',\n",
       " 'Percental Brightness LED-2',\n",
       " 'Percental Brightness LED-3',\n",
       " 'Percental Brightness LED-4',\n",
       " 'Port',\n",
       " 'Serial Number',\n",
       " 'Serial Number LED-1',\n",
       " 'Serial Number LED-2',\n",
       " 'Serial Number LED-3',\n",
       " 'Serial Number LED-4',\n",
       " 'Status',\n",
       " 'Wavelength LED-1',\n",
       " 'Wavelength LED-2',\n",
       " 'Wavelength LED-3',\n",
       " 'Wavelength LED-4')"
      ]
     },
     "execution_count": 2,
     "metadata": {},
     "output_type": "execute_result"
    }
   ],
   "source": [
    "mmc.getDevicePropertyNames('Thorlabs DC4100')"
   ]
  },
  {
   "cell_type": "code",
   "execution_count": 16,
   "metadata": {},
   "outputs": [
    {
     "data": {
      "text/plain": [
       "'Thorlabs DC4100'"
      ]
     },
     "execution_count": 16,
     "metadata": {},
     "output_type": "execute_result"
    }
   ],
   "source": [
    "mmc.getProperty('Thorlabs DC4100', 'Description')"
   ]
  },
  {
   "cell_type": "code",
   "execution_count": 87,
   "metadata": {},
   "outputs": [
    {
     "data": {
      "text/plain": [
       "'C:\\\\test\\\\is\\\\a'"
      ]
     },
     "execution_count": 87,
     "metadata": {},
     "output_type": "execute_result"
    }
   ],
   "source": [
    "model_dir = 'C:\\\\test\\\\is\\\\a\\\\test.py'\n",
    "import os\n",
    "os.path.dirname(model_dir)"
   ]
  },
  {
   "cell_type": "code",
   "execution_count": null,
   "metadata": {},
   "outputs": [
    {
     "name": "stdout",
     "output_type": "stream",
     "text": [
      "not blocked\n",
      "Got: b'ERROR 0:No Error.\\r\\n'\n",
      "not blocked\n",
      "not blocked\n",
      "not blocked\n",
      "not blocked\n",
      "not blocked\n",
      "not blocked\n",
      "not blocked\n",
      "not blocked\n",
      "not blocked\n",
      "not blocked\n",
      "not blocked\n",
      "not blocked\n",
      "not blocked\n"
     ]
    }
   ],
   "source": [
    "import serial\n",
    "import time\n",
    "\n",
    "port = \"COM6\"\n",
    "ser = serial.Serial(port, 115200, timeout=0)\n",
    "\n",
    "# ser.write('DC4104_getMaxLimit'.encode())\n",
    "ser.write(serial.to_bytes([0x4F,0x20,0x31,0x20,0x31,0x0A,0x45,0x3F,0x0A]))\n",
    "\n",
    "while True:\n",
    "    data = ser.read(9999)\n",
    "    if len(data) > 0:\n",
    "        print ('Got:', data)\n",
    "\n",
    "    time.sleep(0.5)\n",
    "    print ('not blocked')\n",
    "\n",
    "ser.close()"
   ]
  },
  {
   "cell_type": "code",
   "execution_count": 13,
   "metadata": {},
   "outputs": [
    {
     "data": {
      "text/plain": [
       "'O 1 1\\nE?\\n'"
      ]
     },
     "execution_count": 13,
     "metadata": {},
     "output_type": "execute_result"
    }
   ],
   "source": [
    "bytearray.fromhex(\"4F203120310A453F0A\").decode()"
   ]
  },
  {
   "cell_type": "code",
   "execution_count": null,
   "metadata": {},
   "outputs": [],
   "source": []
  }
 ],
 "metadata": {
  "kernelspec": {
   "display_name": "Python 3",
   "language": "python",
   "name": "python3"
  },
  "language_info": {
   "codemirror_mode": {
    "name": "ipython",
    "version": 3
   },
   "file_extension": ".py",
   "mimetype": "text/x-python",
   "name": "python",
   "nbconvert_exporter": "python",
   "pygments_lexer": "ipython3",
   "version": "3.6.8"
  }
 },
 "nbformat": 4,
 "nbformat_minor": 2
}
