{
 "cells": [
  {
   "cell_type": "markdown",
   "metadata": {},
   "source": [
    "In order to effectively use focus information from previously imaged chips, we need to account for changes in chip location and rotation. To do this, we follow these steps:\n",
    "- Find the focus and alignment at three corners. We will call these $\\vec{p_{new_1}}, \\vec{p_{new_2}}, \\vec{p_{new_3}}$ \n",
    "- Load the corner PositionList from the previously imaged chip, $\\vec{p_{prev_1}}, \\vec{p_{prev_2}}, \\vec{p_{prev_3}}$ \n",
    "- Find the rotation angles representing the difference in the yaw, pitch, and roll of the two lists of corners: \n",
    "$$\n",
    "\\cos(\\alpha) = \\frac{{x_{prev_2}} -{x_{prev_1}}}{XYdistance(\\vec{p_{prev_2}} ,\\vec{p_{prev_1}})}  - \\frac{{x_{new_2}} -{x_{new_1}}}{XYdistance(\\vec{p_{new_2}} ,\\vec{p_{new_1}})} \\\\\n",
    "\\sin(\\alpha) = \\frac{{y_{prev_2}} -{y_{prev_1}}}{XYdistance(\\vec{p_{prev_2}} ,\\vec{p_{prev_1}})}  - \\frac{{y_{new_2}} -{y_{new_1}}}{XYdistance(\\vec{p_{new_2}} ,\\vec{p_{new_1}})} \\\\\n",
    "\\cos(\\beta) = \\frac{{x_{prev_2}} -{x_{prev_1}}}{XZdistance(\\vec{p_{prev_2}} ,\\vec{p_{prev_1}})}  - \\frac{{x_{new_2}} -{x_{new_1}}}{XZdistance(\\vec{p_{new_2}} ,\\vec{p_{new_1}})} \\\\\n",
    "\\sin(\\beta) = \\frac{{z_{prev_2}} -{z_{prev_1}}}{XZdistance(\\vec{p_{prev_2}} ,\\vec{p_{prev_1}})}  - \\frac{{z_{new_2}} -{z_{new_1}}}{XZdistance(\\vec{p_{new_2}} ,\\vec{p_{new_1}})} \\\\\n",
    "\\cos(\\gamma) = \\frac{{y_{prev_2}} -{y_{prev_1}}}{YZdistance(\\vec{p_{prev_2}} ,\\vec{p_{prev_1}})}  - \\frac{{y_{new_2}} -{y_{new_1}}}{YZdistance(\\vec{p_{new_2}} ,\\vec{p_{new_1}})} \\\\\n",
    "\\sin(\\gamma) = \\frac{{z_{prev_2}} -{z_{prev_1}}}{YZdistance(\\vec{p_{prev_2}} ,\\vec{p_{prev_1}})}  - \\frac{{z_{new_2}} -{z_{new_1}}}{YZdistance(\\vec{p_{new_2}} ,\\vec{p_{new_1}})} \\\\\n",
    "$$ \n",
    "- Find the translation from the origin: $$\\vec{t} = \\vec{p_{new_1}} - \\vec{p_{prev_1}}$$\n",
    "- Now, the final translation from the old focus frame to the current frame is: \n",
    "$$\\vec{p_{old}} = R_{z}(\\alpha)R_{y}(\\beta)R_{x}(\\gamma)\\vec{p_{new}} + \\vec{t} $$  \n",
    "- Where: $$\n",
    "\\begin{alignat}{1}\n",
    "R_x(\\theta) &= \\begin{bmatrix}\n",
    "1 & 0 & 0 \\\\\n",
    "0 & \\cos \\theta &  -\\sin \\theta \\\\[3pt]\n",
    "0 & \\sin \\theta  &  \\cos \\theta \\\\[3pt]\n",
    "\\end{bmatrix} \\\\[6pt]\n",
    "R_y(\\theta) &= \\begin{bmatrix}\n",
    "\\cos \\theta & 0 & \\sin \\theta \\\\[3pt]\n",
    "0 & 1 & 0 \\\\[3pt]\n",
    "-\\sin \\theta & 0 & \\cos \\theta \\\\\n",
    "\\end{bmatrix} \\\\[6pt]\n",
    "R_z(\\theta) &= \\begin{bmatrix}\n",
    "\\cos \\theta &  -\\sin \\theta & 0 \\\\[3pt]\n",
    "\\sin \\theta &   \\cos \\theta & 0\\\\[3pt]\n",
    "0 & 0 & 1\\\\\n",
    "\\end{bmatrix}\n",
    "\\end{alignat}$$\n",
    "- So "
   ]
  },
  {
   "cell_type": "code",
   "execution_count": 5,
   "metadata": {},
   "outputs": [],
   "source": [
    "import sys\n",
    "sys.path.append('C:\\\\Program Files\\\\Micro-Manager-2.0beta')\n",
    "from smartscope.source import position as pos\n",
    "import numpy as np"
   ]
  },
  {
   "cell_type": "code",
   "execution_count": 171,
   "metadata": {},
   "outputs": [],
   "source": [
    "def get_angle_diff(p2, p1):\n",
    "    return (p2[0] - p1[0]) / np.sqrt(np.square(p2[0]-p1[0]) + np.square(p2[1]-p1[1]))"
   ]
  },
  {
   "cell_type": "code",
   "execution_count": 337,
   "metadata": {},
   "outputs": [],
   "source": [
    "prev_corners = pos.load('\\\\00_corners', 'C:\\\\Users\\\\cell_ml\\\\Desktop\\\\20190802\\\\10-Control\\\\00\\\\t47')\n",
    "prev_focused_pl = pos.load('\\\\00_focused', 'C:\\\\Users\\\\cell_ml\\\\Desktop\\\\20190802\\\\10-Control\\\\00\\\\t47')\n",
    "\n",
    "new_corners = pos.load('\\\\00_corners', 'C:\\\\Users\\\\cell_ml\\\\Desktop\\\\20190802\\\\10-Control\\\\00\\\\t49')\n",
    "\n",
    "# cos_alpha = (get_angle_diff([prev_corners[1].x, prev_corners[1].y], [prev_corners[0].x, prev_corners[0].y])\n",
    "#              - get_angle_diff([new_corners[1].x, new_corners[1].y], [new_corners[0].x, new_corners[0].y]))\n",
    "# sin_alpha = (get_angle_diff([prev_corners[1].y, prev_corners[1].x], [prev_corners[0].y, prev_corners[0].x])\n",
    "#              - get_angle_diff([new_corners[1].y, new_corners[1].x], [new_corners[0].y, new_corners[0].x]))\n",
    "    \n",
    "# cos_beta = (get_angle_diff([prev_corners[1].x, prev_corners[1].z], [prev_corners[0].x, prev_corners[0].z])\n",
    "#              - get_angle_diff([new_corners[1].x, new_corners[1].z], [new_corners[0].x, new_corners[0].z]))\n",
    "# sin_beta = (get_angle_diff([prev_corners[1].z, prev_corners[1].x], [prev_corners[0].z, prev_corners[0].x])\n",
    "#              - get_angle_diff([new_corners[1].z, new_corners[1].x], [new_corners[0].z, new_corners[0].x]))\n",
    "    \n",
    "# cos_gamma = (get_angle_diff([prev_corners[1].z, prev_corners[1].y], [prev_corners[2].z, prev_corners[2].y])\n",
    "#              - get_angle_diff([new_corners[1].z, new_corners[1].y], [new_corners[2].z, new_corners[2].y]))\n",
    "# sin_gamma = (get_angle_diff([prev_corners[1].y, prev_corners[1].z], [prev_corners[2].y, prev_corners[2].z])\n",
    "#              - get_angle_diff([new_corners[1].y, new_corners[1].z], [new_corners[2].y, new_corners[2].z]))\n",
    "    \n",
    "# Rx = np.array([[1, 0, 0], [0, cos_gamma, -sin_gamma], [0, sin_gamma, cos_gamma]])\n",
    "# Ry = np.array([[cos_beta, 0, sin_beta], [0, 1, 0], [-sin_beta, 0, cos_beta]])\n",
    "# Rz = np.array([[cos_alpha, -sin_alpha, 0], [sin_alpha, cos_alpha, 0], [0, 0, 1]])\n",
    "# print (Rx)\n",
    "# print (Ry)\n",
    "# print (Rz)\n",
    "\n",
    "\n",
    "# R = np.matmul(np.matmul(Rz, Ry), Rx)\n",
    "# t= np.subtract([new_corners[0].x,new_corners[0].y,new_corners[0].z], [prev_corners[0].x,prev_corners[0].y,prev_corners[0].z])\n",
    "# T = np.array([[R[0][0], R[0][1],R[0][2], t[0]], \n",
    "#               [R[1][0], R[1][1],R[1][2], t[1]],\n",
    "#               [R[2][0], R[2][1],R[2][2], t[2]],\n",
    "#               [0, 0, 0, 1]])\n",
    "\n",
    "\n",
    "# b = np.matmul(R, [new_corners[0].x, new_corners[0].y, new_corners[0].z]) + t\n",
    "# print([new_corners[0].x,new_corners[0].y,new_corners[0].z])\n",
    "# print (R)"
   ]
  },
  {
   "cell_type": "code",
   "execution_count": 340,
   "metadata": {},
   "outputs": [
    {
     "name": "stdout",
     "output_type": "stream",
     "text": [
      "(-30.6,12.15,7575.8194)\n",
      "(25966.025,-158.85,8435.8194)\n",
      "(25908.2,-9659.3,8335.8194)\n",
      "\n"
     ]
    }
   ],
   "source": [
    "print(prev_corners)"
   ]
  },
  {
   "cell_type": "code",
   "execution_count": 343,
   "metadata": {},
   "outputs": [
    {
     "data": {
      "text/plain": [
       "array([[-8.34227269e-04, -9.46334275e-04,  9.99999204e-01],\n",
       "       [ 7.07894318e-01, -7.06318362e-01, -7.78685937e-05],\n",
       "       [ 7.06317874e-01,  7.07893690e-01,  1.25913469e-03]])"
      ]
     },
     "execution_count": 343,
     "metadata": {},
     "output_type": "execute_result"
    }
   ],
   "source": [
    "X = np.array([[prev_corners[0].x, prev_corners[0].y, prev_corners[0].z],\n",
    "            [prev_corners[1].x, prev_corners[1].y, prev_corners[1].z],\n",
    "            [prev_corners[2].x, prev_corners[2].y, prev_corners[2].z]])\n",
    "Q, R = np.linalg.qr(X)\n",
    "Q"
   ]
  },
  {
   "cell_type": "code",
   "execution_count": 172,
   "metadata": {},
   "outputs": [
    {
     "name": "stdout",
     "output_type": "stream",
     "text": [
      "0.9999392544090168\n",
      "-0.011022136450777379\n",
      "0.9999958411786911\n",
      "-0.002884029355249555\n",
      "0.0015790949983083388\n",
      "0.9999987532287159\n",
      "[[ 1.          0.          0.        ]\n",
      " [ 0.          0.00157909 -0.99999875]\n",
      " [ 0.          0.99999875  0.00157909]]\n",
      "[[ 0.99999584  0.         -0.00288403]\n",
      " [ 0.          1.          0.        ]\n",
      " [ 0.00288403  0.          0.99999584]]\n",
      "[[ 0.99993925  0.01102214  0.        ]\n",
      " [-0.01102214  0.99993925  0.        ]\n",
      " [ 0.          0.          1.        ]]\n",
      "[[ 0.9999351  -0.00286645 -0.01102668]\n",
      " [-0.01102209  0.00161079 -0.99993796]\n",
      " [ 0.00288403  0.99999459  0.00157909]]\n",
      "[[ 0.99943164  0.03312982 -0.00622928]\n",
      " [-0.00657404  0.01030754 -0.99992527]\n",
      " [-0.03306313  0.9993979   0.01051948]]\n"
     ]
    }
   ],
   "source": [
    "cos_alpha = get_angle_diff([new_corners[1].x, new_corners[1].y], [new_corners[0].x, new_corners[0].y])\n",
    "sin_alpha = get_angle_diff([new_corners[1].y, new_corners[1].x], [new_corners[0].y, new_corners[0].x])\n",
    "    \n",
    "cos_beta = get_angle_diff([new_corners[1].x, new_corners[1].z], [new_corners[0].x, new_corners[0].z])\n",
    "sin_beta = get_angle_diff([new_corners[1].z, new_corners[1].x], [new_corners[0].z, new_corners[0].x])\n",
    "    \n",
    "cos_gamma = get_angle_diff([new_corners[1].z, new_corners[1].y], [new_corners[2].z, new_corners[2].y])\n",
    "sin_gamma = get_angle_diff([new_corners[1].y, new_corners[1].z], [new_corners[2].y, new_corners[2].z])\n",
    "\n",
    "cos_alpha_prev = (get_angle_diff([prev_corners[1].x, prev_corners[1].y], [prev_corners[0].x, prev_corners[0].y]))\n",
    "sin_alpha_prev = (get_angle_diff([prev_corners[1].y, prev_corners[1].x], [prev_corners[0].y, prev_corners[0].x]))\n",
    "cos_beta_prev = (get_angle_diff([prev_corners[1].x, prev_corners[1].z], [prev_corners[0].x, prev_corners[0].z]))\n",
    "sin_beta_prev = (get_angle_diff([prev_corners[1].z, prev_corners[1].x], [prev_corners[0].z, prev_corners[0].x]))\n",
    "cos_gamma_prev = (get_angle_diff([prev_corners[1].z, prev_corners[1].y], [prev_corners[2].z, prev_corners[2].y]))\n",
    "sin_gamma_prev = (get_angle_diff([prev_corners[1].y, prev_corners[1].z], [prev_corners[2].y, prev_corners[2].z]))\n",
    "Rx_prev = np.array([[1, 0, 0], [0, cos_gamma_prev, -sin_gamma_prev], [0, sin_gamma_prev, cos_gamma_prev]])\n",
    "Ry_prev = np.array([[cos_beta_prev, 0, sin_beta_prev], [0, 1, 0], [-sin_beta_prev, 0, cos_beta_prev]])\n",
    "Rz_prev = np.array([[cos_alpha_prev, -sin_alpha_prev, 0], [sin_alpha_prev, cos_alpha_prev, 0], [0, 0, 1]])\n",
    "R_prev = np.matmul(np.matmul(Rz_prev, Ry_prev), Rx_prev)\n",
    "\n",
    "print (cos_alpha)\n",
    "print (sin_alpha)\n",
    "print (cos_beta)\n",
    "print (sin_beta)\n",
    "print (cos_gamma)\n",
    "print (sin_gamma)\n",
    "\n",
    "Rx = np.array([[1, 0, 0], [0, cos_gamma, -sin_gamma], [0, sin_gamma, cos_gamma]])\n",
    "Ry = np.array([[cos_beta, 0, sin_beta], [0, 1, 0], [-sin_beta, 0, cos_beta]])\n",
    "Rz = np.array([[cos_alpha, -sin_alpha, 0], [sin_alpha, cos_alpha, 0], [0, 0, 1]])\n",
    "print (Rx)\n",
    "print (Ry)\n",
    "print (Rz)\n",
    "\n",
    "\n",
    "R = np.matmul(np.matmul(Rz, Ry), Rx)\n",
    "t= np.subtract([new_corners[0].x,new_corners[0].y,new_corners[0].z], [prev_corners[0].x,prev_corners[0].y,prev_corners[0].z])\n",
    "T = np.array([[R[0][0], R[0][1],R[0][2], t[0]], \n",
    "              [R[1][0], R[1][1],R[1][2], t[1]],\n",
    "              [R[2][0], R[2][1],R[2][2], t[2]],\n",
    "              [0, 0, 0, 1]])\n",
    "print (R)\n",
    "print (R_prev)"
   ]
  },
  {
   "cell_type": "code",
   "execution_count": 154,
   "metadata": {},
   "outputs": [
    {
     "name": "stdout",
     "output_type": "stream",
     "text": [
      "0.37687342091436055\n",
      "179.62312657908572\n",
      "0.006577634626755585\n",
      "-0.9999783671273679\n"
     ]
    }
   ],
   "source": [
    "print(np.rad2deg(np.arcsin(sin_alpha_prev)))\n",
    "print(np.rad2deg(np.arccos(cos_alpha_prev)))\n",
    "print(sin_alpha_prev)\n",
    "print(cos_alpha_prev)"
   ]
  },
  {
   "cell_type": "code",
   "execution_count": 162,
   "metadata": {},
   "outputs": [
    {
     "name": "stdout",
     "output_type": "stream",
     "text": [
      "-0.011022090617250282\n",
      "0.999935096345549\n",
      "[-0.24208699  0.2963639 ]\n",
      "[2.60066209e+04 2.96363899e-01]\n",
      "[26005.80263659 -9499.42922147]\n"
     ]
    }
   ],
   "source": [
    "cos = ((new_corners[1].x - new_corners[0].x)\n",
    "            / (new_corners[1].dist(new_corners[0])))\n",
    "sin = ((new_corners[1].y - new_corners[0].y)\n",
    "            / (new_corners[1].dist(new_corners[0])))\n",
    "print(sin)\n",
    "print(cos)\n",
    "R_test = [[cos, -sin], [sin, cos]]\n",
    "for i in new_corners:\n",
    "    print (np.subtract(np.matmul(np.linalg.inv(R_test),[i.x, i.y]), [new_corners[0].x, new_corners[0].y]))"
   ]
  },
  {
   "cell_type": "code",
   "execution_count": 255,
   "metadata": {},
   "outputs": [
    {
     "name": "stdout",
     "output_type": "stream",
     "text": [
      "--------------\n",
      "1197.4\n",
      "-280.6\n",
      "5902.59375\n",
      "3074.85\n",
      "(1221.22948573696,-271.9546393396566)\n",
      "(7123.4401358318455,-337.01356252897176)\n",
      "(13025.650785926731,-402.0724857182869)\n",
      "(18927.861436021616,-467.131408907602)\n",
      "(24830.072086116503,-532.1903320969172)\n",
      "(24796.18081078205,-3606.8407630950283)\n",
      "(18893.970160687164,-3541.7818399057132)\n",
      "(12991.75951059228,-3476.7229167163982)\n",
      "(7089.548860497393,-3411.6639935270828)\n",
      "(1187.338210402508,-3346.6050703377678)\n",
      "(1153.4469350680558,-6421.25550133588)\n",
      "(7055.657585162941,-6486.314424525195)\n",
      "(12957.868235257827,-6551.37334771451)\n",
      "(18860.078885352712,-6616.432270903825)\n",
      "(24762.2895354476,-6681.491194093141)\n",
      "(24728.398260113147,-9756.14162509125)\n",
      "(18826.18761001826,-9691.082701901934)\n",
      "(12923.976959923375,-9626.02377871262)\n",
      "(7021.766309828489,-9560.964855523305)\n",
      "(1119.555659733604,-9495.90593233399)\n",
      "\n"
     ]
    }
   ],
   "source": [
    "from smartscope.source import chip\n",
    "cur_chip = {'name': 'KL Chip', 'number_of_apartments': 34, 'number_of_streets': 128, 'apartment_spacing': 280.6, 'street_spacing': 194.4, 'chip_width': 26000.0, 'chip_height': 9500.0}\n",
    "mchip = chip.Chip(new_corners, [-760,0], cur_chip, 5, 3)\n",
    "\n",
    "new_focus_pl_actual = pos.load('\\\\00_focused', 'C:\\\\Users\\\\cell_ml\\\\Desktop\\\\20190802\\\\10-Control\\\\00\\\\t49')\n",
    "new_focus_pl_estimated = mchip.get_focus_position_list(5,4)\n",
    "print(new_focus_pl_estimated)"
   ]
  },
  {
   "cell_type": "code",
   "execution_count": 177,
   "metadata": {},
   "outputs": [
    {
     "name": "stdout",
     "output_type": "stream",
     "text": [
      "[-79.97701565  11.61940868   0.18727212]\n",
      "[25923.5100901   -349.69226945  -212.02068111]\n",
      "[25790.76158723 -9848.46260137  -210.85794062]\n"
     ]
    }
   ],
   "source": [
    "for i, _ in enumerate(new_corners):\n",
    "    est = np.matmul(np.linalg.inv(R), [new_corners[i].x, new_corners[i].z, new_corners[i].y])\n",
    "    est1 = np.matmul(np.linalg.inv(R_prev), [prev_corners[i].x, prev_corners[i].z, prev_corners[i].y])\n",
    "    print (np.subtract(est, [new_corners[0].x, new_corners[0].y, -new_corners[0].z]))\n",
    "#     print (est1)\n",
    "  "
   ]
  },
  {
   "cell_type": "code",
   "execution_count": 178,
   "metadata": {},
   "outputs": [
    {
     "name": "stdout",
     "output_type": "stream",
     "text": [
      "[-50.18805304  77.06698366   0.88460264]\n",
      "[25931.66173647   776.29780789 -1022.79022892]\n",
      "[26188.6416248  -8721.37849212 -1022.37728458]\n"
     ]
    }
   ],
   "source": [
    "for i, _ in enumerate(new_corners):\n",
    "    est = np.matmul(np.linalg.inv(R), [new_corners[i].x, new_corners[i].z, new_corners[i].y])\n",
    "    est1 = np.matmul(np.linalg.inv(R_prev), [prev_corners[i].x, prev_corners[i].z, prev_corners[i].y])\n",
    "#     print (np.subtract(est, [new_corners[0].x, new_corners[0].y, -new_corners[0].z]))\n",
    "    print (np.subtract(est1, [prev_corners[0].x, prev_corners[0].y, -prev_corners[0].z]))"
   ]
  },
  {
   "cell_type": "code",
   "execution_count": 182,
   "metadata": {},
   "outputs": [
    {
     "name": "stdout",
     "output_type": "stream",
     "text": [
      "-0.011022090617250282\n",
      "0.999935096345549\n",
      "[  -110.43168903 -14522.72738804]\n",
      "[   176.89593784 -14450.36678175]\n",
      "[  9675.73216933 -14522.72738804]\n"
     ]
    }
   ],
   "source": [
    "yaw_cos = ((new_corners[1].x - new_corners[0].x) / dist([new_corners[0].x, new_corners[0].y], [new_corners[1].x, new_corners[1].y]))\n",
    "yaw_sin = ((new_corners[1].y - new_corners[0].y) / dist([new_corners[0].x, new_corners[0].y], [new_corners[1].x, new_corners[1].y]))\n",
    "roll_cos = ((new_corners[2].y - new_corners[0].y) / dist([new_corners[0].y, new_corners[0].z], [new_corners[2].y, new_corners[2].z]))\n",
    "roll_sin = ((new_corners[2].z - new_corners[0].z) / dist([new_corners[0].y, new_corners[0].z], [new_corners[2].y, new_corners[2].z]))\n",
    "pitch_cos = ((new_corners[1].x - new_corners[0].x) / dist([new_corners[0].x, new_corners[0].z], [new_corners[1].x, new_corners[1].z]))\n",
    "pitch_sin = ((new_corners[1].z - new_corners[0].z) / dist([new_corners[0].x, new_corners[0].z], [new_corners[1].x, new_corners[1].z]))\n",
    "print(sin)\n",
    "print(cos)\n",
    "R_test = [[roll_cos, -roll_sin], [roll_sin, roll_cos]]\n",
    "for i in new_corners:\n",
    "    print (np.subtract(np.matmul(np.linalg.inv(R_test),[i.y, i.z]), [new_corners[0].y, new_corners[0].z]))"
   ]
  },
  {
   "cell_type": "code",
   "execution_count": 180,
   "metadata": {},
   "outputs": [],
   "source": [
    "def dist (x1, x2):\n",
    "    return np.sqrt(np.square(x2[0]-x1[0]) + np.square(x2[1]-x1[1]))"
   ]
  },
  {
   "cell_type": "code",
   "execution_count": 183,
   "metadata": {},
   "outputs": [
    {
     "name": "stdout",
     "output_type": "stream",
     "text": [
      "(27.0,21.825,7261.6176)\n",
      "(26032.175,-264.825,7186.6176)\n",
      "(25926.65,-9763.925,7171.6176)\n",
      "\n"
     ]
    }
   ],
   "source": [
    "print (new_corners)"
   ]
  },
  {
   "cell_type": "code",
   "execution_count": 284,
   "metadata": {},
   "outputs": [],
   "source": [
    "def unitize (x):\n",
    "    if np.sqrt(np.square(x[0]) + np.square(x[1]) + np.square(x[2])) == 0:\n",
    "        return [1, 0, 0]\n",
    "    return [x[0],x[1],x[2]] / np.sqrt(np.square(x[0]) + np.square(x[1]) + np.square(x[2]))"
   ]
  },
  {
   "cell_type": "code",
   "execution_count": 239,
   "metadata": {},
   "outputs": [
    {
     "name": "stdout",
     "output_type": "stream",
     "text": [
      "[[0.0, 0.0, 0.0], [26005.175, -286.65, -75.0], [25899.65, -9785.75, -90.0]]\n",
      "[26005.175, -286.65, -75.0]\n",
      "[26005.175  -286.65    -75.   ]\n"
     ]
    }
   ],
   "source": [
    "u =[]\n",
    "new_new_corners = []\n",
    "for corner in new_corners:\n",
    "    new_new_corners.append([corner.x - new_corners[0].x,\n",
    "                           corner.y - new_corners[0].y,\n",
    "                           corner.z - new_corners[0].z])\n",
    "print (new_new_corners)\n",
    "n=[[],[],[]]\n",
    "n[0]= unitize(new_new_corners[1])\n",
    "print (new_new_corners[1])\n",
    "print ((np.dot(new_new_corners[1], n[0])*n[0]))\n",
    "n[1]= unitize(new_new_corners[1] - (np.dot(new_new_corners[1], n[0])*n[0]))\n",
    "n[2]= np.cross(n[0], n[1])"
   ]
  },
  {
   "cell_type": "code",
   "execution_count": 240,
   "metadata": {},
   "outputs": [
    {
     "name": "stdout",
     "output_type": "stream",
     "text": [
      "[array([ 0.9999351 , -0.01102209, -0.00288385]), array([-0.99987795,  0.01562309,  0.        ]), array([4.50547218e-05, 2.88350220e-03, 4.60133361e-03])]\n"
     ]
    }
   ],
   "source": [
    "print (n)"
   ]
  },
  {
   "cell_type": "code",
   "execution_count": 204,
   "metadata": {},
   "outputs": [
    {
     "data": {
      "text/plain": [
       "array([[ 9.99935096e-01, -9.99877952e-01,  4.50547218e-05],\n",
       "       [-1.10220906e-02,  1.56230930e-02,  2.88350220e-03],\n",
       "       [-2.88385416e-03,  0.00000000e+00,  4.60133361e-03]])"
      ]
     },
     "execution_count": 204,
     "metadata": {},
     "output_type": "execute_result"
    }
   ],
   "source": [
    "R = np.transpose(n)\n",
    "R"
   ]
  },
  {
   "cell_type": "code",
   "execution_count": 220,
   "metadata": {},
   "outputs": [],
   "source": [
    "x= np.linspace(0, 26000, 20)\n",
    "y= np.linspace(0, -9600, 10)\n",
    "new_points = []\n",
    "for i in x:\n",
    "    for j in y:\n",
    "        new_points.append(np.matmul(R, [i, 0, j]))"
   ]
  },
  {
   "cell_type": "code",
   "execution_count": 242,
   "metadata": {},
   "outputs": [
    {
     "name": "stdout",
     "output_type": "stream",
     "text": [
      "[[0.0, 0.0, 0.0], [25996.625, -171.0, 860.0], [25938.8, -9671.449999999999, 760.0]]\n",
      "[25996.625, -171.0, 860.0]\n",
      "[25996.625  -171.      860.   ]\n",
      "[0. 0. 0.]\n"
     ]
    }
   ],
   "source": [
    "u =[]\n",
    "new_prev_corners = []\n",
    "for corner in prev_corners:\n",
    "    new_prev_corners.append([corner.x - prev_corners[0].x,\n",
    "                           corner.y - prev_corners[0].y,\n",
    "                           corner.z - prev_corners[0].z])\n",
    "print (new_prev_corners)\n",
    "n=[[],[],[]]\n",
    "n[0]= unitize(new_prev_corners[1])\n",
    "print (new_prev_corners[1])\n",
    "print((np.dot(new_prev_corners[1], n[0])*n[0]))\n",
    "print(np.subtract(new_prev_corners[1], (np.dot(new_prev_corners[1], n[0])*n[0])))\n",
    "n[1]= unitize(np.subtract(new_prev_corners[1], (np.dot(new_prev_corners[1], n[0])*n[0])))\n",
    "n[2]= np.cross(n[0], n[1])"
   ]
  },
  {
   "cell_type": "code",
   "execution_count": 253,
   "metadata": {},
   "outputs": [],
   "source": [
    "R2 = np.transpose(n)\n",
    "x2 = np.matmul(R2, [26000,0,0])"
   ]
  },
  {
   "cell_type": "code",
   "execution_count": 269,
   "metadata": {},
   "outputs": [
    {
     "name": "stdout",
     "output_type": "stream",
     "text": [
      "[729.41927819 243.7575411   83.58690569]\n",
      "[0. 0. 0.]\n"
     ]
    }
   ],
   "source": [
    "print (np.matmul(R2, [prev_focused_pl[0].x, prev_focused_pl[0].y, prev_focused_pl[0].z]))\n",
    "print (np.matmul(R, [0,0,0]))\n"
   ]
  },
  {
   "cell_type": "code",
   "execution_count": 258,
   "metadata": {},
   "outputs": [
    {
     "name": "stdout",
     "output_type": "stream",
     "text": [
      "[956.54846508 -10.46434535  -2.54978152]\n",
      "[6828.77255783  -74.80849472  -18.47569177]\n",
      "[12700.99665058  -139.15264408   -34.40160201]\n",
      "[18573.22074334  -203.49679345   -50.32751225]\n",
      "[24445.44483609  -267.84094282   -66.25342249]\n",
      "[21336.90131989  -233.57827692   -57.29405301]\n",
      "[15464.67722713  -169.23412756   -41.36814277]\n",
      "[9592.45313438 -104.88997819  -25.44223253]\n",
      "[3720.22904162  -40.54582882   -9.51632229]\n",
      "[-2151.99505113    23.79832055     6.40958795]\n",
      "[-5260.53856734    58.06098644    15.36895743]\n",
      "[ 6.11685525e+02 -6.28316293e+00 -5.56952811e-01]\n",
      "[6483.90961817  -70.62731229  -16.48286305]\n",
      "[12356.13371092  -134.97146166   -32.40877329]\n",
      "[18228.35780368  -199.31561103   -48.33468354]\n",
      "[15119.81428747  -165.05294514   -39.37531406]\n",
      "[9247.59019472 -100.70879577  -23.44940382]\n",
      "[3375.36610196  -36.3646464    -7.52349357]\n",
      "[-2496.85799079    27.97950297     8.40241667]\n",
      "[-8369.08208355    92.32365233    24.32832691]\n"
     ]
    }
   ],
   "source": [
    "for posit in new_focus_pl_estimated:\n",
    "    print (np.matmul(R, np.matmul(R2, [posit.x, posit.y, 0])))"
   ]
  },
  {
   "cell_type": "code",
   "execution_count": 270,
   "metadata": {},
   "outputs": [
    {
     "name": "stdout",
     "output_type": "stream",
     "text": [
      "7261.6176\n",
      "-1.7189275845557295\n",
      "7246.6176\n",
      "-18.06271614494405\n",
      "7226.6176\n",
      "-34.40710969222419\n",
      "7206.6176\n",
      "-50.75150323950433\n",
      "7186.6176\n",
      "-67.09589678678446\n",
      "7181.6176\n",
      "-58.52560517592643\n",
      "7201.6176\n",
      "-42.1812116286463\n",
      "7221.6176\n",
      "-25.83681808136616\n",
      "7241.6176\n",
      "-9.492424534086027\n",
      "7261.6176\n",
      "6.851969013194109\n",
      "7256.6176\n",
      "15.422260624052132\n",
      "7236.6176\n",
      "-0.9221329232280023\n",
      "7216.6176\n",
      "-17.266526470508136\n",
      "7196.6176\n",
      "-33.61092001778829\n",
      "7176.6176\n",
      "-49.95531356506841\n",
      "7171.6176\n",
      "-41.385324447656295\n",
      "7191.6176\n",
      "-25.040628406930264\n",
      "7211.6176\n",
      "-8.696234859650115\n",
      "7231.6176\n",
      "7.648158687630019\n",
      "7251.6176\n",
      "23.99285472835606\n"
     ]
    }
   ],
   "source": [
    "for i, posit in enumerate(new_focus_pl_estimated):\n",
    "    _, _, focus_diff = (np.matmul(R, np.matmul(R2, [prev_focused_pl[i].x, prev_focused_pl[i].y, prev_focused_pl[i].z])))\n",
    "    actual_focus_diff = new_focus_pl_actual[i].z \n",
    "    print (actual_focus_diff)\n",
    "    print(focus_diff)"
   ]
  },
  {
   "cell_type": "code",
   "execution_count": 271,
   "metadata": {},
   "outputs": [],
   "source": [
    "import numpy as np\n",
    "import quaternion"
   ]
  },
  {
   "cell_type": "code",
   "execution_count": 321,
   "metadata": {},
   "outputs": [],
   "source": [
    "def quaternion_from_two_vectors(u, v):\n",
    "    norm_u_v = np.sqrt(np.square(np.linalg.norm(u))*np.square(np.linalg.norm(v))) # NOT SURE HERE \n",
    "    w = np.cross(u,v)\n",
    "    q = Quaternion(norm_u_v + np.dot(u,v), w[0], w[1], w[2])\n",
    "    return q.unit"
   ]
  },
  {
   "cell_type": "code",
   "execution_count": 273,
   "metadata": {},
   "outputs": [
    {
     "name": "stdout",
     "output_type": "stream",
     "text": [
      "(27.0,21.825,7261.6176)\n",
      "(26032.175,-264.825,7186.6176)\n",
      "(25926.65,-9763.925,7171.6176)\n",
      "\n",
      "(-30.6,12.15,7575.8194)\n",
      "(25966.025,-158.85,8435.8194)\n",
      "(25908.2,-9659.3,8335.8194)\n",
      "\n"
     ]
    }
   ],
   "source": [
    "print (new_corners)\n",
    "print (prev_corners)"
   ]
  },
  {
   "cell_type": "code",
   "execution_count": 274,
   "metadata": {},
   "outputs": [
    {
     "name": "stdout",
     "output_type": "stream",
     "text": [
      "[25938.8  -9671.45   760.  ]\n",
      "[25996.625  -171.      860.   ]\n",
      "[25899.65 -9785.75   -90.  ]\n",
      "[26005.175  -286.65    -75.   ]\n"
     ]
    }
   ],
   "source": [
    "u0 = np.array([prev_corners[2].x - prev_corners[0].x, prev_corners[2].y - prev_corners[0].y, prev_corners[2].z - prev_corners[0].z])\n",
    "v0 = np.array([prev_corners[1].x - prev_corners[0].x, prev_corners[1].y - prev_corners[0].y, prev_corners[1].z - prev_corners[0].z])\n",
    "\n",
    "u2 = np.array([new_corners[2].x - new_corners[0].x, new_corners[2].y - new_corners[0].y, new_corners[2].z - new_corners[0].z])\n",
    "v2 = np.array([new_corners[1].x - new_corners[0].x, new_corners[1].y - new_corners[0].y, new_corners[1].z - new_corners[0].z])\n",
    "\n",
    "# ADD CHECK FOR PARALLEL\n",
    "\n",
    "print (u0)\n",
    "print (v0)\n",
    "print (u2)\n",
    "print (v2)\n"
   ]
  },
  {
   "cell_type": "code",
   "execution_count": 322,
   "metadata": {},
   "outputs": [
    {
     "data": {
      "text/plain": [
       "Quaternion(0.9998798341666747, 0.005418074139239456, 0.014359908240957158, -0.0021805354288148672)"
      ]
     },
     "execution_count": 322,
     "metadata": {},
     "output_type": "execute_result"
    }
   ],
   "source": [
    "q2 = quaternion_from_two_vectors(u0, u2)\n",
    "q2"
   ]
  },
  {
   "cell_type": "code",
   "execution_count": 323,
   "metadata": {},
   "outputs": [],
   "source": [
    "# v1 = q2 * v2 * np.quaternion.conjugate(q2)\n",
    "# t = 2 * np.cross([q2.x, q2.y, q2.z], v2)\n",
    "# v1 = v2 + q2.w * t + np.cross([q2.x, q2.y, q2.z], t)\n",
    "v1 = q2.rotate(v2)\n",
    "v0p = v0*unitize(u0)\n",
    "v1p = v1*unitize(u0)"
   ]
  },
  {
   "cell_type": "code",
   "execution_count": 324,
   "metadata": {},
   "outputs": [
    {
     "data": {
      "text/plain": [
       "Quaternion(0.9998679776025954, 0.005439340798436528, 0.015300948188127586, -0.0005673809293511478)"
      ]
     },
     "execution_count": 324,
     "metadata": {},
     "output_type": "execute_result"
    }
   ],
   "source": [
    "q1 = quaternion_from_two_vectors(v0p, v1p)\n",
    "q= (q2*q1).unit\n",
    "q"
   ]
  },
  {
   "cell_type": "code",
   "execution_count": 336,
   "metadata": {},
   "outputs": [
    {
     "name": "stdout",
     "output_type": "stream",
     "text": [
      "Estimate:   [1252.69831764 -375.30739414 7537.38372025]\n",
      "Actual:     [1021.8    -291.8    7261.6176]\n",
      "Estimate:   [7246.0262245  -383.61154854 7583.97182808]\n",
      "Actual:     [7010.9    -291.8    7246.6176]\n",
      "Estimate:   [13238.74229769  -391.69781077  7610.57048412]\n",
      "Actual:     [13000.      -291.8     7226.6176]\n",
      "Estimate:   [19231.45837088  -399.784073    7637.16914016]\n",
      "Actual:     [18989.1     -291.8     7206.6176]\n",
      "Estimate:   [25224.17444407  -407.87033523  7663.76779621]\n",
      "Actual:     [24978.2     -291.8     7186.6176]\n",
      "Estimate:   [25219.38975137 -3379.49904711  7601.50659995]\n",
      "Actual:     [24978.2        -3263.93333333  7181.6176    ]\n",
      "Estimate:   [19226.67367818 -3371.41278488  7574.90794391]\n",
      "Actual:     [18989.1        -3263.93333333  7201.6176    ]\n",
      "Estimate:   [13233.95760499 -3363.32652265  7548.30928787]\n",
      "Actual:     [13000.         -3263.93333333  7221.6176    ]\n",
      "Estimate:   [ 7241.2415318  -3355.24026042  7521.71063182]\n",
      "Actual:     [ 7010.9        -3263.93333333  7241.6176    ]\n",
      "Estimate:   [ 1248.52545861 -3347.15399819  7495.11197578]\n",
      "Actual:     [ 1021.8        -3263.93333333  7261.6176    ]\n",
      "Estimate:   [ 1243.74076591 -6318.78271007  7432.85077953]\n",
      "Actual:     [ 1021.8        -6236.06666667  7256.6176    ]\n",
      "Estimate:   [ 7236.4568391  -6326.8689723   7459.44943557]\n",
      "Actual:     [ 7010.9        -6236.06666667  7236.6176    ]\n",
      "Estimate:   [13229.17291229 -6334.95523453  7486.04809161]\n",
      "Actual:     [13000.         -6236.06666667  7216.6176    ]\n",
      "Estimate:   [19221.88898547 -6343.04149676  7512.64674766]\n",
      "Actual:     [18989.1        -6236.06666667  7196.6176    ]\n",
      "Estimate:   [25214.60505866 -6351.12775899  7539.2454037 ]\n",
      "Actual:     [24978.2        -6236.06666667  7176.6176    ]\n",
      "Estimate:   [25209.51444912 -9322.64752478  7466.98948155]\n",
      "Actual:     [24978.2    -9208.2     7171.6176]\n",
      "Estimate:   [19217.10429277 -9314.67020864  7450.3855514 ]\n",
      "Actual:     [18989.1    -9208.2     7191.6176]\n",
      "Estimate:   [13224.38821958 -9306.58394641  7423.78689536]\n",
      "Actual:     [13000.     -9208.2     7211.6176]\n",
      "Estimate:   [ 7231.67214639 -9298.49768418  7397.18823931]\n",
      "Actual:     [ 7010.9    -9208.2     7231.6176]\n",
      "Estimate:   [ 1239.26199004 -9290.52036803  7380.58430916]\n",
      "Actual:     [ 1021.8    -9208.2     7251.6176]\n"
     ]
    }
   ],
   "source": [
    "est = []\n",
    "for i, val in enumerate(prev_focused_pl):\n",
    "    w0 = np.array([prev_focused_pl[i].x, prev_focused_pl[i].y,prev_focused_pl[i].z])\n",
    "    w2_actual = np.array([new_focus_pl_actual[i].x, new_focus_pl_actual[i].y,new_focus_pl_actual[i].z])\n",
    "    est.append(q.rotate(w0))\n",
    "\n",
    "#     print(\"Origninal: \",w0)\n",
    "    print (\"Estimate:  \",est[-1])\n",
    "    print (\"Actual:    \",w2_actual)"
   ]
  },
  {
   "cell_type": "code",
   "execution_count": 334,
   "metadata": {},
   "outputs": [],
   "source": [
    "import scipy\n",
    "f = scipy.interpolate.interp2d(\n",
    "            [p[0] for p in est], \n",
    "            [p[1] for p in est], \n",
    "            [p[2] for p in est], \n",
    "            kind='cubic')"
   ]
  },
  {
   "cell_type": "code",
   "execution_count": 335,
   "metadata": {},
   "outputs": [
    {
     "name": "stdout",
     "output_type": "stream",
     "text": [
      "[7537.2377576]\n"
     ]
    }
   ],
   "source": [
    "print(f(1021.8, -291.8))"
   ]
  },
  {
   "cell_type": "code",
   "execution_count": 319,
   "metadata": {},
   "outputs": [
    {
     "name": "stdout",
     "output_type": "stream",
     "text": [
      "(1021.8000000000002,-291.8,7575.8194)\n",
      "(7010.900000000001,-291.8,7805.8194)\n",
      "(13000.0,-291.8,8015.8194)\n",
      "(18989.100000000002,-291.8,8225.8194)\n",
      "(24978.2,-291.8,8435.8194)\n",
      "(24978.2,-3263.9333333333334,8405.8194)\n",
      "(18989.100000000002,-3263.9333333333334,8195.8194)\n",
      "(13000.0,-3263.9333333333334,7985.8194)\n",
      "(7010.900000000001,-3263.9333333333334,7775.8194)\n",
      "(1021.8000000000002,-3263.9333333333334,7565.8194)\n",
      "(1021.8000000000002,-6236.066666666667,7535.8194)\n",
      "(7010.900000000001,-6236.066666666667,7745.8194)\n",
      "(13000.0,-6236.066666666667,7955.8194)\n",
      "(18989.100000000002,-6236.066666666667,8165.8194)\n",
      "(24978.2,-6236.066666666667,8375.8194)\n",
      "(24978.2,-9208.199999999999,8335.8194)\n",
      "(18989.100000000002,-9208.199999999999,8135.8194)\n",
      "(13000.0,-9208.199999999999,7925.8194)\n",
      "(7010.900000000001,-9208.199999999999,7715.8194)\n",
      "(1021.8000000000002,-9208.199999999999,7515.8194)\n",
      "\n",
      "(1021.8000000000002,-291.8,7261.6176)\n",
      "(7010.900000000001,-291.8,7246.6176)\n",
      "(13000.0,-291.8,7226.6176)\n",
      "(18989.100000000002,-291.8,7206.6176)\n",
      "(24978.2,-291.8,7186.6176)\n",
      "(24978.2,-3263.9333333333334,7181.6176)\n",
      "(18989.100000000002,-3263.9333333333334,7201.6176)\n",
      "(13000.0,-3263.9333333333334,7221.6176)\n",
      "(7010.900000000001,-3263.9333333333334,7241.6176)\n",
      "(1021.8000000000002,-3263.9333333333334,7261.6176)\n",
      "(1021.8000000000002,-6236.066666666667,7256.6176)\n",
      "(7010.900000000001,-6236.066666666667,7236.6176)\n",
      "(13000.0,-6236.066666666667,7216.6176)\n",
      "(18989.100000000002,-6236.066666666667,7196.6176)\n",
      "(24978.2,-6236.066666666667,7176.6176)\n",
      "(24978.2,-9208.199999999999,7171.6176)\n",
      "(18989.100000000002,-9208.199999999999,7191.6176)\n",
      "(13000.0,-9208.199999999999,7211.6176)\n",
      "(7010.900000000001,-9208.199999999999,7231.6176)\n",
      "(1021.8000000000002,-9208.199999999999,7251.6176)\n",
      "\n"
     ]
    }
   ],
   "source": [
    "print(prev_focused_pl)\n",
    "print(new_focus_pl_actual)"
   ]
  },
  {
   "cell_type": "code",
   "execution_count": null,
   "metadata": {},
   "outputs": [],
   "source": []
  }
 ],
 "metadata": {
  "kernelspec": {
   "display_name": "Python 3",
   "language": "python",
   "name": "python3"
  },
  "language_info": {
   "codemirror_mode": {
    "name": "ipython",
    "version": 3
   },
   "file_extension": ".py",
   "mimetype": "text/x-python",
   "name": "python",
   "nbconvert_exporter": "python",
   "pygments_lexer": "ipython3",
   "version": "3.6.8"
  }
 },
 "nbformat": 4,
 "nbformat_minor": 2
}
