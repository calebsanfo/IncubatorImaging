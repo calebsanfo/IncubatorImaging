{
 "cells": [
  {
   "cell_type": "markdown",
   "metadata": {},
   "source": [
    "In order to effectively use focus information from previously imaged chips, we need to account for changes in chip location and rotation. To do this, we follow these steps:\n",
    "- Find the focus and alignment at three corners. We will call these $\\vec{p_{new_1}}, \\vec{p_{new_2}}, \\vec{p_{new_3}}$ \n",
    "- Load the corner PositionList from the previously imaged chip, $\\vec{p_{prev_1}}, \\vec{p_{prev_2}}, \\vec{p_{prev_3}}$ \n",
    "- Find the rotation angles from the +x direction of both lists of corners, $\\theta_{prev}, \\theta_{new}$ \n",
    "- Rotate the new corners to match the previous corners in the x,y plane: \n",
    "$$ \\vec{p_{rot_new_n}} = \\begin{bmatrix} \n",
    "\\cos(\\theta_{prev} - \\theta_{new}) & \\sin(\\theta_{prev} - \\theta_{new}) \\\\\n",
    "-\\sin(\\theta_{prev} - \\theta_{new}) & \\cos(\\theta_{prev} - \\theta_{new})\n",
    "\\end{bmatrix} * \\vec{p_{new_n}} $$\n",
    "- Find the translation from the origin: $$\\vec{t} = \\vec{p_{new_1}} - \\vec{p_{prev_1}}$$\n",
    "\n",
    "\n",
    "focus data from the previously focused chip into a PositionList, focused_pl. Then we  \n",
    "\n",
    "$$ R = \\begin{bmatrix} \n",
    "\\cos \\theta +u_x^2 \\left(1-\\cos \\theta\\right) & u_x u_y \\left(1-\\cos \\theta\\right) - u_z \\sin \\theta & u_x u_z \\left(1-\\cos \\theta\\right) + u_y \\sin \\theta \\\\ \n",
    "u_y u_x \\left(1-\\cos \\theta\\right) + u_z \\sin \\theta & \\cos \\theta + u_y^2\\left(1-\\cos \\theta\\right) & u_y u_z \\left(1-\\cos \\theta\\right) - u_x \\sin \\theta \\\\ \n",
    "u_z u_x \\left(1-\\cos \\theta\\right) - u_y \\sin \\theta & u_z u_y \\left(1-\\cos \\theta\\right) + u_x \\sin \\theta & \\cos \\theta + u_z^2\\left(1-\\cos \\theta\\right)\n",
    "\\end{bmatrix} $$"
   ]
  },
  {
   "cell_type": "code",
   "execution_count": null,
   "metadata": {},
   "outputs": [],
   "source": [
    "move to first location -> focus\n",
    "move to corner 2 - first location -> focus\n",
    "move to corner 3 - first location x + first location z -> focus\n",
    "align corners \n",
    "p1, p2, p3 "
   ]
  }
 ],
 "metadata": {
  "kernelspec": {
   "display_name": "Python 3",
   "language": "python",
   "name": "python3"
  },
  "language_info": {
   "codemirror_mode": {
    "name": "ipython",
    "version": 3
   },
   "file_extension": ".py",
   "mimetype": "text/x-python",
   "name": "python",
   "nbconvert_exporter": "python",
   "pygments_lexer": "ipython3",
   "version": "3.6.8"
  }
 },
 "nbformat": 4,
 "nbformat_minor": 2
}
