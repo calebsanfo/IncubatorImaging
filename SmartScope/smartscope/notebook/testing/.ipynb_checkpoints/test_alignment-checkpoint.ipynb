{
 "cells": [
  {
   "cell_type": "code",
   "execution_count": null,
   "metadata": {},
   "outputs": [],
   "source": [
    "import sys\n",
    "sys.path.append('../../source/maskrcnn')\n",
    "sys.path.append('../../source/dataset')\n",
    "sys.path.append('../../source')\n",
    "import utils\n",
    "import model as modellib\n",
    "import visualize\n",
    "import config\n",
    "\n",
    "import mark_dataset\n",
    "import alignment\n",
    "import time\n",
    "\n",
    "import sc_utils \n",
    "mmc = sc_utils.get_stage_controller()"
   ]
  },
  {
   "cell_type": "code",
   "execution_count": null,
   "metadata": {},
   "outputs": [],
   "source": [
    "model = alignment.get_inference_model()"
   ]
  },
  {
   "cell_type": "markdown",
   "metadata": {},
   "source": [
    "## Run this cell to view bounding box on image"
   ]
  },
  {
   "cell_type": "code",
   "execution_count": null,
   "metadata": {},
   "outputs": [],
   "source": [
    "center, img, frame, r = alignment.find_alignment_mark(model)\n",
    "visualize.display_instances(frame, r['rois'], r['masks'], r['class_ids'], \n",
    "                            alignment.classnames, r['scores'],figsize=(8, 8))"
   ]
  },
  {
   "cell_type": "markdown",
   "metadata": {},
   "source": [
    "## Now move to that point and show it again"
   ]
  },
  {
   "cell_type": "code",
   "execution_count": null,
   "metadata": {},
   "outputs": [],
   "source": [
    "alignment.move_to_center(mmc, center)\n",
    "\n",
    "center, img, frame, r = alignment.find_alignment_mark(model)\n",
    "\n",
    "visualize.display_instances(frame, r['rois'], r['masks'], r['class_ids'], \n",
    "                            alignment.classnames, r['scores'],figsize=(8, 8))"
   ]
  },
  {
   "cell_type": "code",
   "execution_count": null,
   "metadata": {},
   "outputs": [],
   "source": []
  },
  {
   "cell_type": "code",
   "execution_count": null,
   "metadata": {},
   "outputs": [],
   "source": []
  },
  {
   "cell_type": "code",
   "execution_count": null,
   "metadata": {},
   "outputs": [],
   "source": [
    "start = time.time()\n",
    "center, img, frame, r = alignment.find_alignment_mark(model)\n",
    "end = time.time()\n",
    "print ('Total time:', end-start)"
   ]
  },
  {
   "cell_type": "code",
   "execution_count": null,
   "metadata": {},
   "outputs": [],
   "source": [
    "# center\n",
    "visualize.display_instances(frame, r['rois'], r['masks'], r['class_ids'], \n",
    "                            ['BG', 'mark'], r['scores'])"
   ]
  },
  {
   "cell_type": "code",
   "execution_count": null,
   "metadata": {},
   "outputs": [],
   "source": [
    "from skimage import draw\n",
    "import matplotlib.pyplot as plt\n",
    "def visualize_marker_centers(img, center, color=0):\n",
    "    res = img.copy()\n",
    "    rr, cc = draw.circle(center[1], center[0], radius=5, shape=img.shape)\n",
    "    res[rr, cc] = color\n",
    "    return res\n",
    "    \n",
    "plt.imshow(visualize_marker_centers(frame, center, [255, 0, 0]))\n",
    "plt.gcf().set_size_inches(20, 14)"
   ]
  },
  {
   "cell_type": "code",
   "execution_count": null,
   "metadata": {},
   "outputs": [],
   "source": [
    "center"
   ]
  },
  {
   "cell_type": "code",
   "execution_count": null,
   "metadata": {},
   "outputs": [],
   "source": [
    "alignment.move_to_center(mmc, center)"
   ]
  },
  {
   "cell_type": "code",
   "execution_count": null,
   "metadata": {},
   "outputs": [],
   "source": [
    "start = time.time()\n",
    "center, img, frame, r = alignment.find_alignment_mark(model)\n",
    "end = time.time()\n",
    "print ('Total time:', end-start)\n",
    "center"
   ]
  },
  {
   "cell_type": "code",
   "execution_count": null,
   "metadata": {},
   "outputs": [],
   "source": [
    "plt.imshow(img)"
   ]
  },
  {
   "cell_type": "code",
   "execution_count": null,
   "metadata": {},
   "outputs": [],
   "source": []
  }
 ],
 "metadata": {
  "kernelspec": {
   "display_name": "Python 3",
   "language": "python",
   "name": "python3"
  },
  "language_info": {
   "codemirror_mode": {
    "name": "ipython",
    "version": 3
   },
   "file_extension": ".py",
   "mimetype": "text/x-python",
   "name": "python",
   "nbconvert_exporter": "python",
   "pygments_lexer": "ipython3",
   "version": "3.6.8"
  }
 },
 "nbformat": 4,
 "nbformat_minor": 2
}
