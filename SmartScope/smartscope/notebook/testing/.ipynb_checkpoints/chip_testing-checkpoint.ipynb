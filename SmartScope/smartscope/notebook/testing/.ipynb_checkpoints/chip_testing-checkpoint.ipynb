{
 "cells": [
  {
   "cell_type": "markdown",
   "metadata": {},
   "source": [
    "## Testing chip.py\n",
    "\n",
    "The Chip class uses a position list of three of the alignment marks on a chip to find a position list for the point to focus at (get_focus_position_list()) and the overall positon list to image the chip with (get_position_list()). The methods used to do this are described below. \n",
    "\n",
    "But first... The basics."
   ]
  },
  {
   "cell_type": "code",
   "execution_count": 3,
   "metadata": {},
   "outputs": [],
   "source": [
    "import sys\n",
    "sys.path.insert(0, '../../source')\n",
    "\n",
    "import chip\n",
    "import position as pos\n",
    "import numpy as np"
   ]
  },
  {
   "cell_type": "code",
   "execution_count": 4,
   "metadata": {},
   "outputs": [],
   "source": [
    "# Create positions\n",
    "sp1 = pos.StagePosition(x=0, y=10000, z=0) \n",
    "sp2 = pos.StagePosition(x=9500, y=9500, z=0) \n",
    "sp3 = pos.StagePosition(x=9000, y=-500, z=0)\n",
    "\n",
    "pl = pos.PositionList(positions=[sp1, sp2, sp3])"
   ]
  },
  {
   "cell_type": "code",
   "execution_count": 5,
   "metadata": {},
   "outputs": [
    {
     "name": "stdout",
     "output_type": "stream",
     "text": [
      "(0,10000,0)\n",
      "(9500,9500,0)\n",
      "(9000,-500,0)\n",
      "\n"
     ]
    }
   ],
   "source": [
    "mchip = chip.Chip(pl)\n",
    "# Check that the positons were successfully reordered\n",
    "print (mchip.corner_poslist)"
   ]
  },
  {
   "cell_type": "code",
   "execution_count": 49,
   "metadata": {},
   "outputs": [
    {
     "data": {
      "text/plain": [
       "[[0.9986178293325096, 0.05255883312276367],\n",
       " [-0.05255883312276367, 0.9986178293325096]]"
      ]
     },
     "execution_count": 49,
     "metadata": {},
     "output_type": "execute_result"
    }
   ],
   "source": [
    "mchip.R"
   ]
  },
  {
   "cell_type": "markdown",
   "metadata": {},
   "source": [
    "## Focus PositionList generation\n",
    "\n",
    "Points are calculated by finding the rotation matrix of the chip in reference to the the x and y axes of the stage. This is done after the given points are reordered so that the bottom right point is concidered position 0. The rotation matrix is then calculated with: \n",
    "\n",
    "$$cos = \\frac{corner\\_pl[1].x - corner\\_pl[0].x}{distacne(corner\\_pl[1], corner\\_pl[0])}$$\n",
    "\n",
    "$$sin = \\frac{corner\\_pl[1].y - corner\\_pl[0].x}{distacne(corner\\_pl[1], corner\\_pl[0])} $$ \n",
    "\n",
    "$$ R =\n",
    "\\begin{vmatrix}\n",
    "cos&-sin\\\\\n",
    "sin&cos\\\\\n",
    "\\end{vmatrix}\n",
    "$$\n",
    "\n",
    "We then use the distance between the corner points to find the dimentions of the chip. Using these dimentions, we construct a rectangle of points based on the parameters fp_x and fp_y. \n",
    "\n",
    "Then we rotate all of the calculated points to the rotation of the chip and append them to the list of focus positions using the formula:\n",
    "\n",
    "$$\\vec{x}_{rotated} = R\\vec{x}_{calculated}$$"
   ]
  },
  {
   "cell_type": "code",
   "execution_count": 50,
   "metadata": {},
   "outputs": [],
   "source": [
    "# Given params \n",
    "fp_x = 5\n",
    "fp_y = 4"
   ]
  },
  {
   "cell_type": "code",
   "execution_count": 51,
   "metadata": {},
   "outputs": [
    {
     "name": "stdout",
     "output_type": "stream",
     "text": [
      "9500\n",
      "10500\n"
     ]
    }
   ],
   "source": [
    "total_x = np.abs(mchip.corner_poslist[0].x\n",
    "            - mchip.corner_poslist[1].x)\n",
    "total_y = np.abs(mchip.corner_poslist[0].y \n",
    "           - mchip.corner_poslist[2].y)\n",
    "delta_x = total_x / fp_x\n",
    "delta_y = total_y / fp_y\n",
    "print (total_x)\n",
    "print (total_y)"
   ]
  },
  {
   "cell_type": "code",
   "execution_count": 52,
   "metadata": {},
   "outputs": [],
   "source": [
    "origin = np.matmul(np.linalg.inv(mchip.R), \n",
    "                   [mchip.corner_poslist[0].x, mchip.corner_poslist[0].y])\n",
    "\n",
    "fp_positions = pos.PositionList()\n",
    "for y_ctr in range(fp_y):\n",
    "    for x_ctr in range(fp_x):\n",
    "        rotation = origin + [delta_x/2 + delta_x*x_ctr, \n",
    "                             -(delta_y/2 + delta_y*y_ctr)]\n",
    "        fp = np.matmul(mchip.R, rotation)\n",
    "        s = pos.StagePosition(x=fp[0], y=fp[1])\n",
    "        fp_positions.append(s)"
   ]
  },
  {
   "cell_type": "code",
   "execution_count": 53,
   "metadata": {},
   "outputs": [
    {
     "data": {
      "image/png": "[encoded data removed]",
      "text/plain": [
       "<Figure size 432x288 with 1 Axes>"
      ]
     },
     "metadata": {
      "needs_background": "light"
     },
     "output_type": "display_data"
    }
   ],
   "source": [
    "fp_positions.visualize(xy=True)\n",
    "mchip.corner_poslist.visualize(xy=True)"
   ]
  },
  {
   "cell_type": "markdown",
   "metadata": {},
   "source": [
    "## Total PositionList generation\n",
    "\n",
    "The entire position list is generated in a very similar manner, but instead of using fp_x and fp_y to calculate the distance in-between points, we use the frame of the PVCAM. These are passed as arguments cam_frame_width and cam_frame_height. "
   ]
  },
  {
   "cell_type": "code",
   "execution_count": 54,
   "metadata": {},
   "outputs": [],
   "source": [
    "# Assume that focus works and all z=0\n",
    "focused_pl = pos.PositionList()\n",
    "for p in fp_positions:\n",
    "    s = pos.StagePosition(x=p.x, y=p.y, z=0)\n",
    "    focused_pl.append(s)"
   ]
  },
  {
   "cell_type": "code",
   "execution_count": 55,
   "metadata": {},
   "outputs": [],
   "source": [
    "import focus\n",
    "focus_func = focus.predict_z_height(focused_pl)\n",
    "\n",
    "\n",
    "cam_frame_width = 1210.0 # PVCAM frame width\n",
    "cam_frame_height = 990.0 # PVCAM frame height\n",
    "\n",
    "x_steps = int(np.ceil(mchip.total_x/cam_frame_width))\n",
    "y_steps = int(np.ceil(mchip.total_y/cam_frame_height))"
   ]
  },
  {
   "cell_type": "code",
   "execution_count": 56,
   "metadata": {},
   "outputs": [],
   "source": [
    "origin = np.matmul(np.linalg.inv(mchip.R), \n",
    "                   [mchip.corner_poslist[0].x, mchip.corner_poslist[0].y])"
   ]
  },
  {
   "cell_type": "code",
   "execution_count": 57,
   "metadata": {},
   "outputs": [],
   "source": [
    "positions = pos.PositionList()\n",
    "\n",
    "for y_ctr in range(y_steps):\n",
    "    for x_ctr in range(x_steps):\n",
    "        rotation = origin + [cam_frame_width/2 + cam_frame_width*x_ctr, \n",
    "                             -(cam_frame_height/2 + cam_frame_height*y_ctr)]\n",
    "        posit = np.matmul(mchip.R, rotation)\n",
    "        s = pos.StagePosition(x=posit[0], y=posit[1])\n",
    "        positions.append(s)"
   ]
  },
  {
   "cell_type": "code",
   "execution_count": 58,
   "metadata": {},
   "outputs": [
    {
     "data": {
      "image/png": "[encoded data removed]",
      "text/plain": [
       "<Figure size 432x288 with 1 Axes>"
      ]
     },
     "metadata": {
      "needs_background": "light"
     },
     "output_type": "display_data"
    }
   ],
   "source": [
    "positions.visualize(xy=True)\n",
    "mchip.corner_poslist.visualize(xy=True)"
   ]
  },
  {
   "cell_type": "markdown",
   "metadata": {},
   "source": [
    "## Making sure that the actual functions work the same way"
   ]
  },
  {
   "cell_type": "code",
   "execution_count": 6,
   "metadata": {},
   "outputs": [
    {
     "data": {
      "image/png": "[encoded data removed]",
      "text/plain": [
       "<Figure size 432x288 with 1 Axes>"
      ]
     },
     "metadata": {
      "needs_background": "light"
     },
     "output_type": "display_data"
    }
   ],
   "source": [
    "focus_pl = mchip.get_focus_position_list(6,4)\n",
    "focus_pl.visualize(xy=True)"
   ]
  },
  {
   "cell_type": "code",
   "execution_count": 60,
   "metadata": {},
   "outputs": [
    {
     "data": {
      "image/png": "[encoded data removed]",
      "text/plain": [
       "<Figure size 432x288 with 1 Axes>"
      ]
     },
     "metadata": {
      "needs_background": "light"
     },
     "output_type": "display_data"
    }
   ],
   "source": [
    "# Assume that focus works and all z=0\n",
    "focused_pl = pos.PositionList()\n",
    "for p in focus_pl:\n",
    "    s = pos.StagePosition(x=p.x, y=p.y, z=0)\n",
    "    focused_pl.append(s)\n",
    "\n",
    "mchip.get_position_list(focused_pl).visualize(xy=True)\n",
    "mchip.corner_poslist.visualize(xy=True)"
   ]
  },
  {
   "cell_type": "code",
   "execution_count": null,
   "metadata": {},
   "outputs": [],
   "source": []
  },
  {
   "cell_type": "code",
   "execution_count": null,
   "metadata": {},
   "outputs": [],
   "source": []
  },
  {
   "cell_type": "code",
   "execution_count": null,
   "metadata": {},
   "outputs": [],
   "source": []
  },
  {
   "cell_type": "code",
   "execution_count": null,
   "metadata": {},
   "outputs": [],
   "source": []
  },
  {
   "cell_type": "code",
   "execution_count": null,
   "metadata": {},
   "outputs": [],
   "source": []
  },
  {
   "cell_type": "code",
   "execution_count": null,
   "metadata": {},
   "outputs": [],
   "source": []
  }
 ],
 "metadata": {
  "kernelspec": {
   "display_name": "Python 3",
   "language": "python",
   "name": "python3"
  },
  "language_info": {
   "codemirror_mode": {
    "name": "ipython",
    "version": 3
   },
   "file_extension": ".py",
   "mimetype": "text/x-python",
   "name": "python",
   "nbconvert_exporter": "python",
   "pygments_lexer": "ipython3",
   "version": "3.6.8"
  }
 },
 "nbformat": 4,
 "nbformat_minor": 2
}
