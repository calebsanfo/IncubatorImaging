{
 "cells": [
  {
   "cell_type": "markdown",
   "metadata": {},
   "source": [
    "## Focus Algo Testing"
   ]
  },
  {
   "cell_type": "code",
   "execution_count": 1,
   "metadata": {},
   "outputs": [
    {
     "name": "stdout",
     "output_type": "stream",
     "text": [
      "Devices loaded from config file:\n",
      " ('COM5', 'COM4', 'Scope', 'FocusDrive', 'XYStage', 'Core')\n",
      "\n",
      " Stage at: ( -0.0 , -0.0 )\n",
      "WARNING:tensorflow:From c:\\users\\cell_ml\\miniconda3\\envs\\py36\\lib\\site-packages\\tensorflow\\python\\util\\dispatch.py:180: calling expand_dims (from tensorflow.python.ops.array_ops) with dim is deprecated and will be removed in a future version.\n",
      "Instructions for updating:\n",
      "Use the `axis` argument instead\n",
      "WARNING:tensorflow:From c:\\users\\cell_ml\\miniconda3\\envs\\py36\\lib\\site-packages\\tensorflow\\python\\framework\\op_def_library.py:263: colocate_with (from tensorflow.python.framework.ops) is deprecated and will be removed in a future version.\n",
      "Instructions for updating:\n",
      "Colocations handled automatically by placer.\n",
      "WARNING:tensorflow:From c:\\users\\cell_ml\\miniconda3\\envs\\py36\\lib\\site-packages\\tensorflow\\contrib\\layers\\python\\layers\\layers.py:1624: flatten (from tensorflow.python.layers.core) is deprecated and will be removed in a future version.\n",
      "Instructions for updating:\n",
      "Use keras.layers.flatten instead.\n",
      "WARNING:tensorflow:From c:\\users\\cell_ml\\miniconda3\\envs\\py36\\lib\\site-packages\\tensorflow\\python\\training\\saver.py:1266: checkpoint_exists (from tensorflow.python.training.checkpoint_management) is deprecated and will be removed in a future version.\n",
      "Instructions for updating:\n",
      "Use standard file APIs to check for files with this prefix.\n",
      "INFO:tensorflow:Restoring parameters from model.ckpt-1000042\n"
     ]
    }
   ],
   "source": [
    "import sys\n",
    "sys.path.insert(0, '../../source')\n",
    "sys.path.insert(0, '../../source/miq')\n",
    "sys.path.append('C:\\\\Program Files\\\\Micro-Manager-2.0beta')\n",
    "\n",
    "import MMCorePy\n",
    "import miq\n",
    "import sc_utils as utils\n",
    "import focus\n",
    "import position as pos\n",
    "from matplotlib import pyplot as plt\n",
    "import os\n",
    "import time\n",
    "import numpy as np\n",
    "import scipy.interpolate\n",
    "\n",
    "mmc = MMCorePy.CMMCore()\n",
    "mmc.loadSystemConfiguration(\"../../../config/scope_stage.cfg\")\n",
    "mmc.setFocusDevice(\"FocusDrive\")\n",
    "print (\"Devices loaded from config file:\\n\", mmc.getLoadedDevices())\n",
    "print (\"\\n Stage at: (\", mmc.getXPosition(), \",\", mmc.getYPosition(), \")\")\n",
    "\n",
    "focus_model = miq.get_classifier()"
   ]
  },
  {
   "cell_type": "markdown",
   "metadata": {},
   "source": [
    "### Manually Focus chip at positions:"
   ]
  },
  {
   "cell_type": "markdown",
   "metadata": {},
   "source": [
    "Move to and focus 4 random points"
   ]
  },
  {
   "cell_type": "code",
   "execution_count": 25,
   "metadata": {},
   "outputs": [
    {
     "name": "stdout",
     "output_type": "stream",
     "text": [
      "-12373.4 , 2204.9 , 358014737062.8512\n"
     ]
    }
   ],
   "source": [
    "x1 = mmc.getXPosition()\n",
    "y1 = mmc.getYPosition()\n",
    "z1_manual = mmc.getPosition()\n",
    "print (x1,',', y1,',', z1_manual)"
   ]
  },
  {
   "cell_type": "code",
   "execution_count": 26,
   "metadata": {},
   "outputs": [
    {
     "name": "stdout",
     "output_type": "stream",
     "text": [
      "-4790.3 , 5003.3 , 358014737044.3908\n"
     ]
    }
   ],
   "source": [
    "x2 = mmc.getXPosition()\n",
    "y2 = mmc.getYPosition()\n",
    "z2_manual = mmc.getPosition()\n",
    "print (x2,',', y2,',', z2_manual)"
   ]
  },
  {
   "cell_type": "code",
   "execution_count": 27,
   "metadata": {},
   "outputs": [
    {
     "name": "stdout",
     "output_type": "stream",
     "text": [
      "2651.4 , -252.1 , 358014737009.3928\n"
     ]
    }
   ],
   "source": [
    "x3 = mmc.getXPosition()\n",
    "y3 = mmc.getYPosition()\n",
    "z3_manual = mmc.getPosition()\n",
    "print (x3,',', y3,',', z3_manual)"
   ]
  },
  {
   "cell_type": "code",
   "execution_count": 28,
   "metadata": {},
   "outputs": [
    {
     "name": "stdout",
     "output_type": "stream",
     "text": [
      "-12745.5 , -1424.4 , 358014737061.2172\n"
     ]
    }
   ],
   "source": [
    "x4 = mmc.getXPosition()\n",
    "y4 = mmc.getYPosition()\n",
    "z4_manual = mmc.getPosition()\n",
    "print (x4,',', y4,',', z4_manual)"
   ]
  },
  {
   "cell_type": "code",
   "execution_count": 29,
   "metadata": {},
   "outputs": [],
   "source": [
    "# Save the positons \n",
    "pos_list_xy = pos.PositionList()\n",
    "manual_poslist = pos.PositionList()\n",
    "for x,y,z in [(x1,y1, z1_manual),(x2,y2, z2_manual),(x3,y3, z3_manual),(x4,y4, z4_manual)]:\n",
    "    sp = pos.StagePosition(x=x, y=y)\n",
    "    pos_list_xy.append(sp)\n",
    "    sp_man = pos.StagePosition(x=x, y=y, z=z)\n",
    "    manual_poslist.append(sp_man)\n",
    "pos_list_xy.save(\"xy_pos\", os.getcwd())\n",
    "manual_poslist.save(\"manual_focus\", os.getcwd())"
   ]
  },
  {
   "cell_type": "code",
   "execution_count": 2,
   "metadata": {},
   "outputs": [],
   "source": [
    "# Load previously saved positions\n",
    "pos_list_xy = pos.load('xy_pos', os.getcwd())\n",
    "manual_poslist = pos.load('manual_focus', os.getcwd())"
   ]
  },
  {
   "cell_type": "markdown",
   "metadata": {},
   "source": [
    "# Test Focus from image stack method\n",
    "\n",
    "This method takes a stack of images at a specific point and finds the focus predition of each image in the stack. Then, adds the z height with the smallest prediction to the position list. \n",
    "\n"
   ]
  },
  {
   "cell_type": "code",
   "execution_count": 30,
   "metadata": {},
   "outputs": [],
   "source": [
    "total_z = 100\n",
    "delta_z = 5\n",
    "xy_points = pos_list_xy"
   ]
  },
  {
   "cell_type": "code",
   "execution_count": 34,
   "metadata": {},
   "outputs": [
    {
     "name": "stdout",
     "output_type": "stream",
     "text": [
      "INFO:tensorflow:Restoring parameters from model.ckpt-1000042\n",
      "358014737034.9322 358014736934.9322 20.0\n"
     ]
    },
    {
     "name": "stderr",
     "output_type": "stream",
     "text": [
      "/home/cellcounter/miniconda2/envs/Py36/lib/python3.6/site-packages/ipykernel_launcher.py:14: DeprecationWarning: object of type <class 'float'> cannot be safely interpreted as an integer.\n",
      "  \n"
     ]
    },
    {
     "name": "stdout",
     "output_type": "stream",
     "text": [
      "-12373.4 2204.9\n",
      "-4790.3 5003.3\n",
      "2651.4 -252.1\n",
      "-12745.5 -1424.4\n",
      "Total Time for 4 points: 157.10771870613098\n"
     ]
    }
   ],
   "source": [
    "start_time = time.time()\n",
    "\n",
    "# Get focus model\n",
    "focus_model = miq.get_classifier()\n",
    "\n",
    "pos_list = pos.PositionList()\n",
    "\n",
    "# make z position array\n",
    "cur_pos = mmc.getPosition()\n",
    "start_pos = cur_pos + total_z/2\n",
    "end_pos = cur_pos - total_z/2\n",
    "num_steps = (start_pos-end_pos) / delta_z\n",
    "print (start_pos, end_pos, num_steps)\n",
    "z = np.linspace(start_pos, end_pos, num_steps)\n",
    "\n",
    "cam = utils.start_cam()\n",
    "point_preds = []\n",
    "\n",
    "for posit in xy_points:\n",
    "    # Go to the x,y position \n",
    "    print (posit.x, posit.y)\n",
    "    pos.set_pos(mmc, posit.x, posit.y)\n",
    "\n",
    "    preds = []\n",
    "    for curr_z in z:\n",
    "        mmc.setPosition(curr_z)\n",
    "        mmc.waitForSystem()\n",
    "        frame = cam.get_frame(exp_time=1).reshape(cam.sensor_size[::-1])\n",
    "        preds.append(focus_model.score(frame))\n",
    "    # find the index of the min focus prediction\n",
    "    best_focus_index = np.argmin(preds)\n",
    "    # append to the PositionList \n",
    "    sp = pos.StagePosition(x=posit.x, y=posit.y,\n",
    "                           z=z[best_focus_index])\n",
    "    pos_list.append(sp)\n",
    "    point_preds.append(preds)\n",
    "\n",
    "utils.close_cam(cam)\n",
    "\n",
    "total_time = time.time() - start_time\n",
    "print (\"Total Time for\", len(xy_points), \"points:\", total_time)"
   ]
  },
  {
   "cell_type": "code",
   "execution_count": 32,
   "metadata": {},
   "outputs": [
    {
     "data": {
      "text/plain": [
       "<matplotlib.legend.Legend at 0x7fa5445abd68>"
      ]
     },
     "execution_count": 32,
     "metadata": {},
     "output_type": "execute_result"
    },
    {
     "data": {
      "image/png": "[encoded data removed]",
      "text/plain": [
       "<Figure size 432x288 with 1 Axes>"
      ]
     },
     "metadata": {
      "needs_background": "light"
     },
     "output_type": "display_data"
    }
   ],
   "source": [
    "x = [0,1,2,3]\n",
    "y_auto = []\n",
    "y_manual = []\n",
    "for p in pos_list:\n",
    "    y_auto.append(p.z)\n",
    "for p in manual_poslist:\n",
    "    y_manual.append(p.z)\n",
    "\n",
    "plt.scatter(x, y_auto, label='Auto-focused')\n",
    "plt.scatter(x, y_manual, label='Manually-focused')\n",
    "plt.title('Focus points')\n",
    "plt.xlabel('point')\n",
    "plt.ylabel('Focus Z (uM)')\n",
    "plt.legend()"
   ]
  },
  {
   "cell_type": "markdown",
   "metadata": {},
   "source": [
    "# Test Curve fitting"
   ]
  },
  {
   "cell_type": "code",
   "execution_count": 63,
   "metadata": {},
   "outputs": [],
   "source": [
    "def guassian(x,a,b,c,d):\n",
    "    return (a*np.exp(-(np.square(x-b))/(2*np.square(c)))) + d\n",
    "\n",
    "def p3(x,a,b,c,d):\n",
    "    return (a+(x*b)+np.square(x*c)+np.power(x*d, 3))\n",
    "\n",
    "def p4(x,a,b,c,d,e):\n",
    "    return (a+(x*b)+np.square(x*c)+np.power(x*d, 3)+np.power(x*e, 4))"
   ]
  },
  {
   "cell_type": "code",
   "execution_count": 96,
   "metadata": {},
   "outputs": [],
   "source": [
    "z_loc = mmc.getPosition()\n",
    "prediction = []\n",
    "cam = utils.start_cam()\n",
    "for i in range (80):\n",
    "    mmc.setPosition(z_loc - (2.5*i))\n",
    "    mmc.waitForSystem()\n",
    "    frame = cam.get_frame(exp_time=1).reshape(cam.sensor_size[::-1])\n",
    "    prediction.append(focus_model.score(frame))\n",
    "utils.close_cam(cam)"
   ]
  },
  {
   "cell_type": "code",
   "execution_count": 74,
   "metadata": {},
   "outputs": [
    {
     "data": {
      "text/plain": [
       "Text(0, 0.5, 'Focus Prediction')"
      ]
     },
     "execution_count": 74,
     "metadata": {},
     "output_type": "execute_result"
    },
    {
     "data": {
      "image/png": "[encoded data removed]",
      "text/plain": [
       "<Figure size 432x288 with 1 Axes>"
      ]
     },
     "metadata": {
      "needs_background": "light"
     },
     "output_type": "display_data"
    }
   ],
   "source": [
    "from scipy.optimize import curve_fit\n",
    "# Fit the gaussian to the prediction data \n",
    "x= np.linspace(0, 200, 80)\n",
    "popt, pcov = curve_fit(guassian, x, prediction)\n",
    "\n",
    "plt.scatter(x, prediction)\n",
    "plt.plot(x,guassian(x, *popt), '--')\n",
    "\n",
    "plt.title('Focus Predictions')\n",
    "plt.xlabel('Z')\n",
    "plt.ylabel('Focus Prediction')"
   ]
  },
  {
   "cell_type": "markdown",
   "metadata": {},
   "source": [
    "### Fitting using a defined function did not work, so I am using an interp function to get a good fit of the data. "
   ]
  },
  {
   "cell_type": "code",
   "execution_count": 97,
   "metadata": {},
   "outputs": [],
   "source": [
    "f=scipy.interpolate.interp1d(x, prediction, kind='cubic')"
   ]
  },
  {
   "cell_type": "code",
   "execution_count": 98,
   "metadata": {},
   "outputs": [
    {
     "data": {
      "text/plain": [
       "Text(0, 0.5, 'Focus Prediction')"
      ]
     },
     "execution_count": 98,
     "metadata": {},
     "output_type": "execute_result"
    },
    {
     "data": {
      "image/png": "[encoded data removed]",
      "text/plain": [
       "<Figure size 432x288 with 1 Axes>"
      ]
     },
     "metadata": {
      "needs_background": "light"
     },
     "output_type": "display_data"
    }
   ],
   "source": [
    "plt.scatter(x, prediction)\n",
    "plt.plot(x,f(x), '--')\n",
    "\n",
    "plt.title('Focus Predictions')\n",
    "plt.xlabel('Z')\n",
    "plt.ylabel('Focus Prediction')"
   ]
  },
  {
   "cell_type": "markdown",
   "metadata": {},
   "source": [
    "Now lets see if multiple positions on the chip follow the same pattern"
   ]
  },
  {
   "cell_type": "code",
   "execution_count": 99,
   "metadata": {},
   "outputs": [],
   "source": [
    "# Position #2\n",
    "z_loc = mmc.getPosition()\n",
    "prediction2 = []\n",
    "cam = utils.start_cam()\n",
    "for i in range (80):\n",
    "    mmc.setPosition(z_loc - (2.5*i))\n",
    "    mmc.waitForSystem()\n",
    "    frame = cam.get_frame(exp_time=1).reshape(cam.sensor_size[::-1])\n",
    "    prediction2.append(focus_model.score(frame))\n",
    "utils.close_cam(cam)"
   ]
  },
  {
   "cell_type": "code",
   "execution_count": 100,
   "metadata": {},
   "outputs": [],
   "source": [
    "# Position #3\n",
    "z_loc = mmc.getPosition()\n",
    "prediction3 = []\n",
    "cam = utils.start_cam()\n",
    "for i in range (80):\n",
    "    mmc.setPosition(z_loc - (2.5*i))\n",
    "    mmc.waitForSystem()\n",
    "    frame = cam.get_frame(exp_time=1).reshape(cam.sensor_size[::-1])\n",
    "    prediction3.append(focus_model.score(frame))\n",
    "utils.close_cam(cam)"
   ]
  },
  {
   "cell_type": "code",
   "execution_count": 101,
   "metadata": {},
   "outputs": [
    {
     "data": {
      "text/plain": [
       "<matplotlib.collections.PathCollection at 0x7fa52d69f7b8>"
      ]
     },
     "execution_count": 101,
     "metadata": {},
     "output_type": "execute_result"
    },
    {
     "data": {
      "image/png": "[encoded data removed]",
      "text/plain": [
       "<Figure size 432x288 with 1 Axes>"
      ]
     },
     "metadata": {
      "needs_background": "light"
     },
     "output_type": "display_data"
    }
   ],
   "source": [
    "plt.scatter(x, prediction)\n",
    "plt.scatter(x, prediction2)\n",
    "plt.scatter(x, prediction3)"
   ]
  },
  {
   "cell_type": "markdown",
   "metadata": {},
   "source": [
    "### The Blue and Orange Positions are interior chip poins, while the green is along the egde of the chip. "
   ]
  },
  {
   "cell_type": "code",
   "execution_count": 82,
   "metadata": {},
   "outputs": [
    {
     "name": "stdout",
     "output_type": "stream",
     "text": [
      "358014737009.123 3.7428572132870777\n"
     ]
    }
   ],
   "source": [
    "cam = utils.start_cam()\n",
    "z1 = mmc.getPosition()\n",
    "frame = cam.get_frame(exp_time=1).reshape(cam.sensor_size[::-1])\n",
    "pred1 = focus_model.score(frame)\n",
    "print (z1, pred1)"
   ]
  },
  {
   "cell_type": "code",
   "execution_count": 83,
   "metadata": {},
   "outputs": [
    {
     "name": "stdout",
     "output_type": "stream",
     "text": [
      "358014736994.7742 7.484355020197346\n"
     ]
    }
   ],
   "source": [
    "z2 = mmc.getPosition()\n",
    "frame = cam.get_frame(exp_time=1).reshape(cam.sensor_size[::-1])\n",
    "pred2 = focus_model.score(frame)\n",
    "utils.close_cam(cam)\n",
    "print (z2, pred2)"
   ]
  },
  {
   "cell_type": "markdown",
   "metadata": {},
   "source": [
    "# Test Using Last Point\n",
    "\n",
    "First point -> basic z stack prediction -> pick best point \n",
    "Next point -> start @ (last best focus - 30 um) -> move in +z dir and break when two predictions in a row have been worse than the previous ones. Need to snake\n"
   ]
  },
  {
   "cell_type": "code",
   "execution_count": null,
   "metadata": {},
   "outputs": [],
   "source": [
    "start_time = time.time()\n",
    "\n",
    "# Get focus model\n",
    "focus_model = miq.get_classifier()\n",
    "\n",
    "pos_list = pos.PositionList()\n",
    "\n",
    "# make z position array\n",
    "cur_pos = mmc.getPosition()\n",
    "start_pos = cur_pos + total_z/2\n",
    "end_pos = cur_pos - total_z/2\n",
    "num_steps = (start_pos-end_pos) / delta_z\n",
    "z = np.linspace(start_pos, end_pos, num_steps)\n",
    "\n",
    "cam = utils.start_cam()\n",
    "\n",
    "for posit in xy_points:\n",
    "    # Go to the x,y position \n",
    "    pos.set_pos(mmc, posit.x, posit.y)\n",
    "\n",
    "    preds = []\n",
    "    heights = []\n",
    "    for curr_z in z:\n",
    "        mmc.setPosition(curr_z)\n",
    "        mmc.waitForSystem()\n",
    "        frame = cam.get_frame(exp_time=1).reshape(cam.sensor_size[::-1])\n",
    "        preds.append(focus_model.score(frame))\n",
    "        heights.append(curr_z)\n",
    "        index = len(preds) - 1\n",
    "        if index > 2:\n",
    "            if (preds[index] > preds [index-1] and \n",
    "                preds[index] > preds [index-2]):\n",
    "                break\n",
    "    # find the index of the min focus prediction\n",
    "    best_focus_index = np.argmin(preds)\n",
    "    # append to the PositionList \n",
    "    sp = pos.StagePosition(x=posit.x, y=posit.y,\n",
    "                           z=heights[best_focus_index])\n",
    "    print (sp)\n",
    "    pos_list.append(sp)\n",
    "\n",
    "utils.close_cam(cam)\n",
    "total_time = time.time() - start_time\n",
    "print ('Completed focus in', total_time, 'seconds')"
   ]
  },
  {
   "cell_type": "code",
   "execution_count": null,
   "metadata": {},
   "outputs": [],
   "source": []
  },
  {
   "cell_type": "code",
   "execution_count": null,
   "metadata": {},
   "outputs": [],
   "source": []
  },
  {
   "cell_type": "code",
   "execution_count": 4,
   "metadata": {},
   "outputs": [],
   "source": [
    "test = True"
   ]
  },
  {
   "cell_type": "code",
   "execution_count": 6,
   "metadata": {},
   "outputs": [],
   "source": [
    "test = not test"
   ]
  },
  {
   "cell_type": "code",
   "execution_count": 7,
   "metadata": {},
   "outputs": [
    {
     "data": {
      "text/plain": [
       "False"
      ]
     },
     "execution_count": 7,
     "metadata": {},
     "output_type": "execute_result"
    }
   ],
   "source": [
    "test"
   ]
  },
  {
   "cell_type": "code",
   "execution_count": null,
   "metadata": {},
   "outputs": [],
   "source": []
  }
 ],
 "metadata": {
  "kernelspec": {
   "display_name": "Python 3",
   "language": "python",
   "name": "python3"
  },
  "language_info": {
   "codemirror_mode": {
    "name": "ipython",
    "version": 3
   },
   "file_extension": ".py",
   "mimetype": "text/x-python",
   "name": "python",
   "nbconvert_exporter": "python",
   "pygments_lexer": "ipython3",
   "version": "3.6.8"
  }
 },
 "nbformat": 4,
 "nbformat_minor": 2
}
