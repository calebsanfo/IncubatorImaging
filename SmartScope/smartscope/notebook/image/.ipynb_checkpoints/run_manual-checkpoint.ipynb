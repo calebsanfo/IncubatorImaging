{
 "cells": [
  {
   "cell_type": "code",
   "execution_count": 1,
   "metadata": {},
   "outputs": [
    {
     "name": "stdout",
     "output_type": "stream",
     "text": [
      "Stage at: ( -15389.1 , 4824.900000000001 )\n"
     ]
    }
   ],
   "source": [
    "import sys\n",
    "import os\n",
    "sys.path.append('../source')\n",
    "sys.path.append('../source/miq')\n",
    "\n",
    "import chip\n",
    "import position as pos\n",
    "import focus\n",
    "import utils\n",
    "\n",
    "# Load a Micro-Manager instance\n",
    "mmc = utils.get_stage_controller()\n",
    "print (\"Stage at: (\", mmc.getXPosition(), \n",
    "       \",\", mmc.getYPosition(), \")\")"
   ]
  },
  {
   "cell_type": "code",
   "execution_count": null,
   "metadata": {},
   "outputs": [],
   "source": [
    "''' Name chip and give directory to save in '''\n",
    "chip_number = '0001'\n",
    "save_dir = '/home/cellcounter/data/' + chip_number + '/'\n",
    "os.makedirs(save_dir, exist_ok=True)"
   ]
  },
  {
   "cell_type": "markdown",
   "metadata": {},
   "source": [
    "## Alignment"
   ]
  },
  {
   "cell_type": "code",
   "execution_count": 2,
   "metadata": {},
   "outputs": [],
   "source": [
    "''' Move the Stage to the bottom right alignment mark of the chip \n",
    "    (when looking through the scope) '''\n",
    "p1 = pos.StagePosition(x=mmc.getXPosition(),\n",
    "                       y=mmc.getYPosition())"
   ]
  },
  {
   "cell_type": "code",
   "execution_count": 3,
   "metadata": {},
   "outputs": [],
   "source": [
    "''' Move the Stage to the bottom left alignment mark of the chip '''\n",
    "p2 = pos.StagePosition(x=mmc.getXPosition(),\n",
    "                       y=mmc.getYPosition())"
   ]
  },
  {
   "cell_type": "code",
   "execution_count": 4,
   "metadata": {},
   "outputs": [],
   "source": [
    "''' Move the Stage to the top left alignment mark of the chip '''\n",
    "p3 = pos.StagePosition(x=mmc.getXPosition(),\n",
    "                       y=mmc.getYPosition())"
   ]
  },
  {
   "cell_type": "code",
   "execution_count": 5,
   "metadata": {},
   "outputs": [],
   "source": [
    "# Create a Position List of the corners and save it\n",
    "corners = pos.PositionList(positions=[p1,p2,p3])\n",
    "corners.save(chip_number + '_corners', save_dir)"
   ]
  },
  {
   "cell_type": "code",
   "execution_count": 6,
   "metadata": {},
   "outputs": [
    {
     "data": {
      "image/png": "[encoded data removed]",
      "text/plain": [
       "<Figure size 432x288 with 1 Axes>"
      ]
     },
     "metadata": {
      "needs_background": "light"
     },
     "output_type": "display_data"
    }
   ],
   "source": [
    "# Create a chip instance and visualize the focus Position List \n",
    "current_chip = chip.Chip(corners)\n",
    "focus_pl = current_chip.get_focus_position_list(5,4)\n",
    "focus_pl.visualize(xy=True)\n",
    "current_chip.corner_poslist.visualize(xy=True)"
   ]
  },
  {
   "cell_type": "code",
   "execution_count": 7,
   "metadata": {},
   "outputs": [
    {
     "name": "stdout",
     "output_type": "stream",
     "text": [
      "WARNING:tensorflow:From ../source/miq/prediction.py:201: calling expand_dims (from tensorflow.python.ops.array_ops) with dim is deprecated and will be removed in a future version.\n",
      "Instructions for updating:\n",
      "Use the `axis` argument instead\n",
      "INFO:tensorflow:Restoring parameters from model.ckpt-1000042\n",
      "Completed focus in 67.57311129570007 seconds\n"
     ]
    }
   ],
   "source": [
    "focused_pl = focus.focus_from_last_point(focus_pl, mmc)\n",
    "focused_pl.save(chip_number + '_focused', save_dir)\n",
    "imaging_pl = current_chip.get_position_list(focused_pl)\n",
    "imaging_pl.image(mmc, save_dir)"
   ]
  },
  {
   "cell_type": "markdown",
   "metadata": {},
   "source": [
    "## Load previously saved Positions"
   ]
  },
  {
   "cell_type": "code",
   "execution_count": 9,
   "metadata": {},
   "outputs": [],
   "source": [
    "current_chip = chip.Chip(pos.load(chip_number + '_corners', save_dir))\n",
    "focused_pl = pos.load(chip_number + '_focused', save_dir)\n",
    "imaging_pl = current_chip.get_position_list(focused_pl)\n",
    "imaging_pl.image(mmc, save_dir)"
   ]
  },
  {
   "cell_type": "code",
   "execution_count": null,
   "metadata": {},
   "outputs": [],
   "source": []
  }
 ],
 "metadata": {
  "kernelspec": {
   "display_name": "Python 3",
   "language": "python",
   "name": "python3"
  },
  "language_info": {
   "codemirror_mode": {
    "name": "ipython",
    "version": 3
   },
   "file_extension": ".py",
   "mimetype": "text/x-python",
   "name": "python",
   "nbconvert_exporter": "python",
   "pygments_lexer": "ipython3",
   "version": "3.6.8"
  }
 },
 "nbformat": 4,
 "nbformat_minor": 2
}
