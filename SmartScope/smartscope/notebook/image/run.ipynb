{
 "cells": [
  {
   "cell_type": "code",
   "execution_count": null,
   "metadata": {},
   "outputs": [],
   "source": [
    "import sys\n",
    "sys.path.append('C:\\\\Program Files\\\\Micro-Manager-2.0beta')\n",
    "\n",
    "import utils\n",
    "import model as modellib\n",
    "import visualize\n",
    "import config\n",
    "\n",
    "from const import *\n",
    "import mark_dataset\n",
    "import alignment\n",
    "import time\n",
    "\n",
    "import chip\n",
    "import position as pos\n",
    "import focus\n",
    "import sc_utils\n",
    "import run\n",
    "\n",
    "# Load a Micro-Manager instance\n",
    "mmc = sc_utils.get_stage_controller()\n",
    "print (\"Stage at: (\", mmc.getXPosition(), \",\", mmc.getYPosition(), \")\")\n",
    "\n",
    "''' \n",
    "Name chip and give directory to save in \n",
    "'''\n",
    "chip_number = '0012' \n",
    "save_dir = 'C:\\\\Users\\\\cell_ml\\\\Desktop\\\\SC_WIN10\\\\Data\\\\' + chip_number\n",
    "os.makedirs(save_dir, exist_ok=True)"
   ]
  },
  {
   "cell_type": "markdown",
   "metadata": {},
   "source": [
    "## Auto-Alignment\n",
    "### args: \n",
    "        chip: an instance of a Chip class (found in chip.py)\n",
    "        mmc: Mico-Manager instance (can get from sc_utils.get_stage_controller())\n",
    "        save_dir: directory to save images to \n",
    "        chip_number: string to identify chip\n",
    "        alignment_model_name: name of the trained model for alignment\n",
    "        alignment_model_path: path to the trained model for alignment\n",
    "        naming_scheme: Beginning of image file names\n",
    "        focus_delta_z: amount to change in the z direction between getting \n",
    "                       focus prediction\n",
    "        focus_total_z: total z in each direction to look for an individual \n",
    "                       focus point or the first focus point in a set\n",
    "        focus_next_point_range: total z in each direction to look for each \n",
    "                       focus point that directly follows a nearby point that \n",
    "                       we have already focused (this will need to be increased\n",
    "                       for chips that are not relatively flat)\n",
    "        number_of_focus_points_x: Number of positions to focus at in the x \n",
    "                       direction (must be greater than 3 for interpolation to \n",
    "                       work propertly)\n",
    "        number_of_focus_points_y: Number of positions to focus at in the y \n",
    "                       direction (must be greater than 3 for interpolation to \n",
    "                       work propertly)\n",
    "        save_jpg: Saves images as both tiff files and jpg files if True"
   ]
  },
  {
   "cell_type": "code",
   "execution_count": null,
   "metadata": {},
   "outputs": [],
   "source": [
    "run.auto_image_chip(curr_chip,\n",
    "                    mmc,\n",
    "                    save_dir,\n",
    "                    chip_number,\n",
    "                    alignemnt_model_name=\"alignment_30.h5\",\n",
    "                    alignemnt_model_path='.',\n",
    "                    naming_scheme='BFF',\n",
    "                    focus_delta_z=5,\n",
    "                    focus_total_z=150,\n",
    "                    focus_next_point_range=35,\n",
    "                    number_of_focus_points_x=5,\n",
    "                    number_of_focus_points_y=4,\n",
    "                    save_jpg=False)\n"
   ]
  },
  {
   "cell_type": "markdown",
   "metadata": {},
   "source": [
    "## Image chip from previously saved positions\n",
    "\n",
    "### args:\n",
    "\n",
    "        chip: an instance of a Chip class (found in chip.py)\n",
    "        chip_number: string to identify chip\n",
    "        save_dir: directory to save images to\n",
    "        mmc: Mico-Manager instance (can get from sc_utils.get_stage_controller())\n",
    "        realign: If true, find the alignment marks again \n",
    "        alignment_model_name: name of the trained model for alignment\n",
    "        alignment_model_path: path to the trained model for alignment\n",
    "        naming_scheme: Beginning of image file names\n",
    "        save_jpg: Saves images as both tiff files and jpg files if True\n"
   ]
  },
  {
   "cell_type": "code",
   "execution_count": null,
   "metadata": {},
   "outputs": [],
   "source": [
    "curr_chip = chip.ML_Chip()\n",
    "run.image_from_saved_positions(curr_chip, \n",
    "                               chip_number, \n",
    "                               save_dir, \n",
    "                               mmc, \n",
    "                               realign=False, \n",
    "                               alignemnt_model_name=\"alignment_30.h5\",\n",
    "                               alignemnt_model_path='.', \n",
    "                               naming_scheme='BFF', \n",
    "                               save_jpg=True)"
   ]
  },
  {
   "cell_type": "code",
   "execution_count": null,
   "metadata": {},
   "outputs": [],
   "source": []
  }
 ],
 "metadata": {
  "kernelspec": {
   "display_name": "Python 3",
   "language": "python",
   "name": "python3"
  },
  "language_info": {
   "codemirror_mode": {
    "name": "ipython",
    "version": 3
   },
   "file_extension": ".py",
   "mimetype": "text/x-python",
   "name": "python",
   "nbconvert_exporter": "python",
   "pygments_lexer": "ipython3",
   "version": "3.6.8"
  }
 },
 "nbformat": 4,
 "nbformat_minor": 2
}
