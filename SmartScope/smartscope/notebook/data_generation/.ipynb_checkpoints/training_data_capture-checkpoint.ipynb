{
 "cells": [
  {
   "cell_type": "code",
   "execution_count": null,
   "metadata": {},
   "outputs": [],
   "source": [
    "import os\n",
    "import sys\n",
    "sys.path.append('../source')\n",
    "\n",
    "import sc_utils\n",
    "from constants import *\n",
    "import scipy.misc\n",
    "import alignment\n",
    "\n",
    "save_dir = 'images'\n",
    "os.makedirs(save_dir, exist_ok=True)\n",
    "\n",
    "n=0"
   ]
  },
  {
   "cell_type": "markdown",
   "metadata": {},
   "source": [
    "## Run this cell to capture new images"
   ]
  },
  {
   "cell_type": "code",
   "execution_count": null,
   "metadata": {},
   "outputs": [],
   "source": [
    "cam = sc_utils.start_cam()\n",
    "frame = cam.get_frame(exp_time=EXPOSURE).reshape(cam.sensor_size[::-1]) \n",
    "sc_utils.close_cam(cam)\n",
    "\n",
    "new_frame = alignment.convert_to_mrcnn_format(frame)\n",
    "scipy.misc.imsave('image'+str(n)+'.jpg', new_frame)\n",
    "n = n+1"
   ]
  }
 ],
 "metadata": {
  "kernelspec": {
   "display_name": "Python 3",
   "language": "python",
   "name": "python3"
  },
  "language_info": {
   "codemirror_mode": {
    "name": "ipython",
    "version": 3
   },
   "file_extension": ".py",
   "mimetype": "text/x-python",
   "name": "python",
   "nbconvert_exporter": "python",
   "pygments_lexer": "ipython3",
   "version": "3.6.8"
  }
 },
 "nbformat": 4,
 "nbformat_minor": 2
}
