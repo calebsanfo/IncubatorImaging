{
 "cells": [
  {
   "cell_type": "code",
   "execution_count": 1,
   "metadata": {},
   "outputs": [
    {
     "name": "stderr",
     "output_type": "stream",
     "text": [
      "Using TensorFlow backend.\n"
     ]
    }
   ],
   "source": [
    "import os\n",
    "import sys\n",
    "sys.path.append('../../source')\n",
    "sys.path.append('../../source/maskrcnn')\n",
    "sys.path.append('../../source/dataset')\n",
    "sys.path.append('../../source/miq')\n",
    "\n",
    "sys.path.append('C:\\\\Program Files\\\\Micro-Manager-2.0beta')\n",
    "\n",
    "import MMCorePy\n",
    "import sc_utils\n",
    "import scipy.misc\n",
    "import alignment\n",
    "import focus\n",
    "import chip\n",
    "import position as pos\n",
    "\n",
    "import tifffile as tif\n",
    "\n",
    "save_dir = 'focus_images'\n",
    "os.makedirs(save_dir, exist_ok=True)\n",
    "\n",
    "mmc = sc_utils.get_stage_controller(cfg='../../../config/scope_stage.cfg')"
   ]
  },
  {
   "cell_type": "markdown",
   "metadata": {},
   "source": [
    "## Run this cell to manually focus chip"
   ]
  },
  {
   "cell_type": "code",
   "execution_count": 26,
   "metadata": {},
   "outputs": [
    {
     "name": "stdin",
     "output_type": "stream",
     "text": [
      "Press ENTER when focused... \n",
      "Press ENTER when focused... \n",
      "Press ENTER when focused... \n",
      "Press ENTER when focused... \n",
      "Press ENTER when focused... \n",
      "Press ENTER when focused... \n",
      "Press ENTER when focused... \n",
      "Press ENTER when focused... \n",
      "Press ENTER when focused... \n",
      "Press ENTER when focused... \n",
      "Press ENTER when focused... \n",
      "Press ENTER when focused... \n",
      "Press ENTER when focused... \n",
      "Press ENTER when focused... \n",
      "Press ENTER when focused... \n",
      "Press ENTER when focused... \n",
      "Press ENTER when focused... \n",
      "Press ENTER when focused... \n",
      "Press ENTER when focused... \n",
      "Press ENTER when focused... \n"
     ]
    }
   ],
   "source": [
    "curr_chip = chip.ML_Chip()\n",
    "chip_name = \"ML_Chip3_no_fluid\"\n",
    "\n",
    "\n",
    "x,y,z = pos.current(mmc)\n",
    "p1 = pos.StagePosition(x=x, y=y)\n",
    "p2 = pos.StagePosition(x=x-curr_chip.CHIP_WIDTH, y=y)\n",
    "p3 = pos.StagePosition(x=x-curr_chip.CHIP_WIDTH, y=y-curr_chip.CHIP_HEIGHT)\n",
    "\n",
    "corners_pl = pos.PositionList(positions=[p1,p2,p3])\n",
    "curr_chip.initalize(corners_pl)\n",
    "focus_points = curr_chip.get_focus_position_list(5,4)\n",
    "\n",
    "\n",
    "pos_list = pos.PositionList()\n",
    "for i, posit in enumerate(focus_points):\n",
    "    pos.set_pos(mmc, x=posit.x, y=posit.y)\n",
    "    input (\"Press ENTER when focused...\")\n",
    "    sp = pos.StagePosition(x=posit.x, y=posit.y, z=mmc.getPosition())\n",
    "    pos_list.append(sp)\n",
    "\n",
    "imaging_pl = curr_chip.get_position_list(pos_list)"
   ]
  },
  {
   "cell_type": "code",
   "execution_count": 27,
   "metadata": {},
   "outputs": [],
   "source": [
    "imaging_pl.save('imaging_pl_ML_3','.')"
   ]
  },
  {
   "cell_type": "markdown",
   "metadata": {},
   "source": [
    "## Run this cell to generate focus training data"
   ]
  },
  {
   "cell_type": "code",
   "execution_count": 28,
   "metadata": {},
   "outputs": [],
   "source": [
    "cam = sc_utils.start_cam()\n",
    "for i in range (11):\n",
    "    offset = i * 10\n",
    "    direction = 1\n",
    "    os.makedirs('offset_'+str(offset), exist_ok=True)\n",
    "    for i, posit in enumerate(imaging_pl):\n",
    "        pos.set_pos(mmc, posit.x, posit.y, z=posit.z+offset*direction)\n",
    "        frame = cam.get_frame(exp_time=1).reshape(cam.sensor_size[::-1])\n",
    "        frame = focus.bytescale(frame)\n",
    "        tif.imwrite('offset_'+str(offset)+'/'+chip_name+'-'+str(i)+'.tif', frame)\n",
    "        direction = direction*-1\n",
    "sc_utils.close_cam(cam)"
   ]
  },
  {
   "cell_type": "code",
   "execution_count": 17,
   "metadata": {},
   "outputs": [],
   "source": []
  },
  {
   "cell_type": "code",
   "execution_count": null,
   "metadata": {},
   "outputs": [],
   "source": []
  }
 ],
 "metadata": {
  "kernelspec": {
   "display_name": "Python 3",
   "language": "python",
   "name": "python3"
  },
  "language_info": {
   "codemirror_mode": {
    "name": "ipython",
    "version": 3
   },
   "file_extension": ".py",
   "mimetype": "text/x-python",
   "name": "python",
   "nbconvert_exporter": "python",
   "pygments_lexer": "ipython3",
   "version": "3.6.8"
  }
 },
 "nbformat": 4,
 "nbformat_minor": 2
}
